{
 "cells": [
  {
   "cell_type": "markdown",
   "metadata": {},
   "source": [
    "# Welcome to WoMa"
   ]
  },
  {
   "cell_type": "markdown",
   "metadata": {},
   "source": [
    "This notebook aims to cover the basic usages of WoMa. Let's get started!"
   ]
  },
  {
   "cell_type": "code",
   "execution_count": null,
   "metadata": {},
   "outputs": [],
   "source": [
    "import woma\n",
    "\n",
    "R_earth = 6371000  # m\n",
    "M_earth = 5.972E24 # kg m^-3 "
   ]
  },
  {
   "cell_type": "markdown",
   "metadata": {},
   "source": [
    "### Contents:\n",
    "1. Spherical planetray profiles\n",
    "2. Particle placement for spherical planetary profiles\n",
    "3. Spinning planetary profiles\n",
    "4. Particle placement for spinning planetary profiles"
   ]
  },
  {
   "cell_type": "markdown",
   "metadata": {},
   "source": [
    " ## 1. Spherical planetary profiles"
   ]
  },
  {
   "cell_type": "markdown",
   "metadata": {},
   "source": [
    "Let us start building a simple spherical 1 layer planet.\n",
    "\n",
    "We need to specify the following for every single planet we want to build:\n",
    "- Equation of state for every material: we choose Tillotson granite.\n",
    "- Relation temperature-density for every material: we choose a power relation $T=K\\rho^\\alpha$ with $\\alpha=0$ (i.e. isothermal).\n",
    "- Two out of the following three: pressure $P_{\\rm s}$, temperature $T_{\\rm s}$, and density $\\rho_{\\rm s}$ at the surface of our planet. We choose $P_{\\rm s}=10^5\\, \\rm Pa$, and $T_{\\rm s}=1000\\, \\rm K$."
   ]
  },
  {
   "cell_type": "code",
   "execution_count": null,
   "metadata": {},
   "outputs": [],
   "source": [
    "l1_test = woma.Planet(\n",
    "    name            = \"my_first_planet\",\n",
    "    A1_mat_layer    = ['Til_granite'],\n",
    "    A1_T_rho_type   = ['power=0'],\n",
    "    P_s             = 1e5,\n",
    "    T_s             = 1000\n",
    "    )"
   ]
  },
  {
   "cell_type": "markdown",
   "metadata": {},
   "source": [
    "For spherical 1 layer planets we need to specify the total radius $R$ or the total mass $M$ of the planet.\n",
    "We say our planet has $R=R_\\oplus$, and a possible maximum mass of $2M_\\oplus$. These can also be defined as input in the cell above."
   ]
  },
  {
   "cell_type": "code",
   "execution_count": null,
   "metadata": {},
   "outputs": [],
   "source": [
    "l1_test.R     = R_earth\n",
    "l1_test.M_max = 2*M_earth"
   ]
  },
  {
   "cell_type": "markdown",
   "metadata": {},
   "source": [
    "We now select the appropiate method and the planet gets built."
   ]
  },
  {
   "cell_type": "code",
   "execution_count": null,
   "metadata": {},
   "outputs": [],
   "source": [
    "l1_test.gen_prof_L1_find_M_given_R()"
   ]
  },
  {
   "cell_type": "markdown",
   "metadata": {},
   "source": [
    "Let's plot the results."
   ]
  },
  {
   "cell_type": "code",
   "execution_count": null,
   "metadata": {},
   "outputs": [],
   "source": [
    "import matplotlib.pyplot as plt\n",
    "\n",
    "def plot_spherical_profile(planet):\n",
    "    \n",
    "    fig, ax = plt.subplots(2, 2, figsize=(8,8))\n",
    "    \n",
    "    ax[0,0].plot(planet.A1_r/R_earth, planet.A1_rho)\n",
    "    ax[0,0].set_xlabel(r\"$r$ $[R_\\oplus]$\")\n",
    "    ax[0,0].set_ylabel(r\"$\\rho$ $[kg/m^3]$\")\n",
    "    ax[0,0].set_yscale(\"log\")\n",
    "    ax[0,0].set_xlim(0, None)\n",
    "    \n",
    "    ax[1,0].plot(planet.A1_r/R_earth, planet.A1_m_enc/M_earth)\n",
    "    ax[1,0].set_xlabel(r\"$r$ $[R_\\oplus]$\")\n",
    "    ax[1,0].set_ylabel(r\"$M$ $[M_\\oplus]$\")\n",
    "    ax[1,0].set_xlim(0, None)\n",
    "    \n",
    "    ax[0,1].plot(planet.A1_r/R_earth, planet.A1_P)\n",
    "    ax[0,1].set_xlabel(r\"$r$ $[R_\\oplus]$\")\n",
    "    ax[0,1].set_ylabel(r\"$P$ $[Pa]$\")\n",
    "    ax[0,1].set_xlim(0, None)\n",
    "    \n",
    "    ax[1,1].plot(planet.A1_r/R_earth, planet.A1_T)\n",
    "    ax[1,1].set_xlabel(r\"$r$ $[R_\\oplus]$\")\n",
    "    ax[1,1].set_ylabel(r\"$T$ $[K]$\")\n",
    "    ax[1,1].set_xlim(0, None)\n",
    "    \n",
    "    plt.tight_layout()\n",
    "    plt.show()"
   ]
  },
  {
   "cell_type": "code",
   "execution_count": null,
   "metadata": {},
   "outputs": [],
   "source": [
    "plot_spherical_profile(l1_test)"
   ]
  },
  {
   "cell_type": "markdown",
   "metadata": {},
   "source": [
    "As mentioned before, for 1 layer planets we have two options:\n",
    "- Fix the radius `R` and the maximum mass `M_max`, then the total mass is determined.\n",
    "- Fix the mass `M` and the maximum radius `R_max`, then the total radius is determined.\n",
    "\n",
    "Let us try the second option:"
   ]
  },
  {
   "cell_type": "code",
   "execution_count": null,
   "metadata": {},
   "outputs": [],
   "source": [
    "l1_test = woma.Planet(\n",
    "    name            = \"my_second_planet\",\n",
    "    A1_mat_layer    = ['Til_granite'],\n",
    "    A1_T_rho_type   = ['power=0.12345'], # determine alpha\n",
    "    P_s             = 1e5,\n",
    "    T_s             = 1000,\n",
    "    M               = M_earth,\n",
    "    R_max           = 2*R_earth\n",
    "    )"
   ]
  },
  {
   "cell_type": "code",
   "execution_count": null,
   "metadata": {},
   "outputs": [],
   "source": [
    "l1_test.gen_prof_L1_find_R_given_M()\n",
    "plot_spherical_profile(l1_test)"
   ]
  },
  {
   "cell_type": "markdown",
   "metadata": {},
   "source": [
    "Let us continue with 2 layer planets. Let us choose a power relation temperature-density with $\\alpha=0.5$ for our core, and $\\alpha=1$ for our mantle."
   ]
  },
  {
   "cell_type": "code",
   "execution_count": null,
   "metadata": {},
   "outputs": [],
   "source": [
    "l2_test = woma.Planet(\n",
    "    A1_mat_layer    = ['Til_iron', 'Til_granite'],\n",
    "    A1_T_rho_type   = ['power=0.5', 'power=1.'], # determine alphas\n",
    "    P_s             = 1e5,\n",
    "    T_s             = 300\n",
    "    )"
   ]
  },
  {
   "cell_type": "markdown",
   "metadata": {},
   "source": [
    "In this case we have many more combinations to determine all the gloval variables of our planet as a function of a few. See `woma.py` for full details.\n",
    "\n",
    "We can, for instance, determine the mass of every layer `A1_M_layer` and a maximum radius `R_max`, then the boundary and total radius are automatic."
   ]
  },
  {
   "cell_type": "code",
   "execution_count": null,
   "metadata": {},
   "outputs": [],
   "source": [
    "l2_test.A1_M_layer = [0.3*M_earth, 0.7*M_earth]\n",
    "l2_test.R_max      = 2*R_earth\n",
    "\n",
    "l2_test.gen_prof_L2_find_R1_R_given_M1_M2()\n",
    "plot_spherical_profile(l2_test)"
   ]
  },
  {
   "cell_type": "markdown",
   "metadata": {},
   "source": [
    "Or, we could determine the total mass `M`, the radius `R`, and the boundary between materials gets automatically computed. Let us choose SESAME EoS for this example with an adiabatic $T(\\rho)$ relation for the mantle:"
   ]
  },
  {
   "cell_type": "code",
   "execution_count": null,
   "metadata": {},
   "outputs": [],
   "source": [
    "l2_test = woma.Planet(\n",
    "    A1_mat_layer    = ['SESAME_iron', 'SESAME_basalt'],\n",
    "    A1_T_rho_type   = ['power=0.5', 'adiabatic'],\n",
    "    P_s             = 1e5,\n",
    "    T_s             = 300,\n",
    "    M               = M_earth,\n",
    "    A1_R_layer      = [None, R_earth]               # list with boundary and total radius\n",
    "    )"
   ]
  },
  {
   "cell_type": "code",
   "execution_count": null,
   "metadata": {},
   "outputs": [],
   "source": [
    "l2_test.gen_prof_L2_find_R1_given_R_M()\n",
    "plot_spherical_profile(l2_test)"
   ]
  },
  {
   "cell_type": "markdown",
   "metadata": {},
   "source": [
    "Finally, we have 3 layer planets. In this example we determine the boundary mantle-atmosphere given the mass, radius, and boundary core-mantle"
   ]
  },
  {
   "cell_type": "code",
   "execution_count": null,
   "metadata": {},
   "outputs": [],
   "source": [
    "l3_test = woma.Planet(\n",
    "    A1_mat_layer    = ['SESAME_iron', 'SESAME_basalt', 'SS08_water'],\n",
    "    A1_T_rho_type   = ['power=0.5', 'power=0.5', 'power=0.5'],\n",
    "    P_s             = 1e5,\n",
    "    T_s             = 300,\n",
    "    M               = M_earth,\n",
    "    A1_R_layer      = [0.6*R_earth, None, R_earth]               # list with boundaries and total radius\n",
    "    )"
   ]
  },
  {
   "cell_type": "code",
   "execution_count": null,
   "metadata": {},
   "outputs": [],
   "source": [
    "l3_test.gen_prof_L3_find_R2_given_R_M_R1()\n",
    "plot_spherical_profile(l3_test)"
   ]
  },
  {
   "cell_type": "markdown",
   "metadata": {},
   "source": [
    "In this last example, we determine boundary core-mantle and boundary mantle-atmosphere given the radius, mass and moment of inertia."
   ]
  },
  {
   "cell_type": "code",
   "execution_count": null,
   "metadata": {},
   "outputs": [],
   "source": [
    "l3_test = woma.Planet(\n",
    "    A1_mat_layer    = ['SESAME_iron', 'SESAME_basalt', 'SESAME_water'],\n",
    "    A1_T_rho_type   = ['power=0.', 'power=0.', 'power=0.'],\n",
    "    P_s             = 1,\n",
    "    T_s             = 500,\n",
    "    M               = M_earth,\n",
    "    A1_R_layer      = [None, None, R_earth],               # list with boundaries and total radius\n",
    "    I_MR2           = 0.3*M_earth*R_earth**2,\n",
    "    num_attempt     = 5,                                   # Control internal number of iterations\n",
    "    num_attempt_2   = 5\n",
    "    )"
   ]
  },
  {
   "cell_type": "code",
   "execution_count": null,
   "metadata": {},
   "outputs": [],
   "source": [
    "l3_test.gen_prof_L3_find_R1_R2_given_R_M_I()\n",
    "plot_spherical_profile(l3_test)"
   ]
  },
  {
   "cell_type": "markdown",
   "metadata": {},
   "source": [
    "## 2. SPH particle placement for spherical profiles"
   ]
  },
  {
   "cell_type": "markdown",
   "metadata": {},
   "source": [
    "We use the SEA algorithm ([Kegerreis et al. 2019](https://doi.org/10.1093/mnras/stz1606)) to place particles accordingly given a spherical profile.\n",
    "\n",
    "We use a 2 layer planet generated by woma as an example:"
   ]
  },
  {
   "cell_type": "code",
   "execution_count": null,
   "metadata": {},
   "outputs": [],
   "source": [
    "import woma\n",
    "import seagen\n",
    "\n",
    "R_earth = 6371000\n",
    "M_earth = 5.972E24\n",
    "\n",
    "l2_test = woma.Planet(\n",
    "    A1_mat_layer    = ['SESAME_iron', 'SESAME_basalt'],\n",
    "    A1_T_rho_type   = ['power=0.', 'adiabatic'],\n",
    "    P_s             = 1e5,\n",
    "    T_s             = 300,\n",
    "    M               = M_earth,\n",
    "    A1_R_layer      = [None, R_earth]               # list with boundary and total radius\n",
    "    )\n",
    "\n",
    "l2_test.gen_prof_L2_find_R1_given_R_M()"
   ]
  },
  {
   "cell_type": "code",
   "execution_count": null,
   "metadata": {},
   "outputs": [],
   "source": [
    "N         = 1e5 # Number of particles\n",
    "particles = woma.ParticleSet(l2_test, N)"
   ]
  },
  {
   "cell_type": "markdown",
   "metadata": {},
   "source": [
    "All information about the particle placement can be found in the attributes of `particles`. See `main.py` for all the detals."
   ]
  },
  {
   "cell_type": "code",
   "execution_count": null,
   "metadata": {},
   "outputs": [],
   "source": [
    "print(woma.ParticleSet.__doc__)"
   ]
  },
  {
   "cell_type": "markdown",
   "metadata": {},
   "source": [
    "## 3. Spinning planetary profiles"
   ]
  },
  {
   "cell_type": "markdown",
   "metadata": {},
   "source": [
    "A spinning planetary profile can be described by its equatorial and polar density profiles. This is equivalent to say our planet is a set of constant density oblate spheroids. For full details see [Ruiz-Bonilla et al. 2020](fgdfgdfg).\n",
    "\n",
    "The easiest way to construct a spheroidal planet in WoMa is starting from a spherical one. Let us construct an arbitrary one:"
   ]
  },
  {
   "cell_type": "code",
   "execution_count": null,
   "metadata": {},
   "outputs": [],
   "source": [
    "def plot_spin_profile(spin_planet):\n",
    "    \n",
    "    sp = spin_planet\n",
    "    \n",
    "    fig, ax = plt.subplots(1,2, figsize=(12,6))\n",
    "    ax[0].scatter(sp.A1_r/R_earth, sp.A1_rho, label = 'original', s = 0.5)\n",
    "    ax[0].scatter(sp.A1_r_equator/R_earth, sp.A1_rho_equator, label = 'equatorial profile', s = 1)\n",
    "    ax[0].scatter(sp.A1_r_pole/R_earth, sp.A1_rho_pole, label = 'polar profile', s = 1)\n",
    "    ax[0].set_xlabel(r\"$r$ [$R_{earth}$]\")\n",
    "    ax[0].set_ylabel(r\"$\\rho$ [$kg/m^3$]\")\n",
    "    ax[0].legend()\n",
    "    \n",
    "    \n",
    "    r_array_coarse = np.linspace(0, np.max(sp.A1_r_equator), 200)\n",
    "    z_array_coarse = np.linspace(0, np.max(sp.A1_r_pole), 200)\n",
    "    rho_grid = np.zeros((r_array_coarse.shape[0], z_array_coarse.shape[0]))\n",
    "    for i in range(rho_grid.shape[0]):\n",
    "        radius = r_array_coarse[i]\n",
    "        for j in range(rho_grid.shape[1]):\n",
    "            z = z_array_coarse[j]\n",
    "            rho_grid[i,j] = woma.us.rho_rz(radius, z,\n",
    "                                      sp.A1_r_equator, sp.A1_rho_equator,\n",
    "                                      sp.A1_r_pole, sp.A1_rho_pole)\n",
    "    \n",
    "    X, Y = np.meshgrid(r_array_coarse/R_earth, z_array_coarse/R_earth)\n",
    "    Z = rho_grid.T\n",
    "    levels = np.arange(1000, 15000, 1000)\n",
    "    ax[1].set_aspect('equal')\n",
    "    CS = plt.contour(X, Y, Z, levels = levels)\n",
    "    ax[1].clabel(CS, inline=1, fontsize=10)\n",
    "    ax[1].set_xlabel(r\"$r$ [$R_{earth}$]\")\n",
    "    ax[1].set_ylabel(r\"$z$ [$R_{earth}$]\")\n",
    "    ax[1].set_title('Density (Kg/m^3)')\n",
    "        \n",
    "    plt.tight_layout()\n",
    "    plt.show()"
   ]
  },
  {
   "cell_type": "code",
   "execution_count": null,
   "metadata": {},
   "outputs": [],
   "source": [
    "import woma\n",
    "import seagen\n",
    "import matplotlib.pyplot as plt\n",
    "import numpy as np\n",
    "\n",
    "R_earth = 6371000\n",
    "M_earth = 5.972E24\n",
    "\n",
    "l2_test = woma.Planet(\n",
    "    A1_mat_layer    = ['Til_iron', 'Til_granite'],\n",
    "    A1_T_rho_type   = ['power=0.1', 'power=0.1'],\n",
    "    P_s             = 1e5,\n",
    "    T_s             = 3000,\n",
    "    M               = M_earth,\n",
    "    A1_R_layer      = [0.5*R_earth, None],               # list with boundary and total radius\n",
    "    R_max           = 2*R_earth\n",
    "    )\n",
    "\n",
    "l2_test.gen_prof_L2_find_R_given_M_R1()"
   ]
  },
  {
   "cell_type": "markdown",
   "metadata": {},
   "source": [
    "We now, just simply use the `SpinPlanet` class:"
   ]
  },
  {
   "cell_type": "code",
   "execution_count": null,
   "metadata": {},
   "outputs": [],
   "source": [
    "my_spinning_planet = woma.SpinPlanet(\n",
    "    planet = l2_test,\n",
    "    Tw     = 3  # hours\n",
    "    )\n",
    "\n",
    "my_spinning_planet.spin()\n",
    "\n",
    "plot_spin_profile(my_spinning_planet)"
   ]
  },
  {
   "cell_type": "markdown",
   "metadata": {},
   "source": [
    "The code will check for the minimum period available for the planet described automatically."
   ]
  },
  {
   "cell_type": "markdown",
   "metadata": {},
   "source": [
    "Note the units of periods are set in hours, the rest of units are SI.\n",
    "\n",
    "Let's compute the spinning planetary profile of the planet with its minimum period:"
   ]
  },
  {
   "cell_type": "code",
   "execution_count": null,
   "metadata": {},
   "outputs": [],
   "source": [
    "l2_test_spin = woma.SpinPlanet(\n",
    "    planet  = l2_test,\n",
    "    R_e_max = 2.3*R_earth,\n",
    "    R_p_max = 1.3*R_earth,\n",
    "    Tw      = 0.001     # hours\n",
    "    )\n",
    "\n",
    "l2_test_spin.spin()\n",
    "\n",
    "plot_spin_profile(l2_test_spin)"
   ]
  },
  {
   "cell_type": "markdown",
   "metadata": {},
   "source": [
    "Note the `spin` method does not have mass conservation. In order to have it, use `spin_planet_fix_M`."
   ]
  },
  {
   "cell_type": "code",
   "execution_count": null,
   "metadata": {},
   "outputs": [],
   "source": [
    "l2_test_spin = woma.spin_planet_fix_M(planet=l2_test, Tw=10,\n",
    "                                      R_e_max=1.5*R_earth, R_p_max=1.1*R_earth,\n",
    "                                      max_iter_1=5, max_iter_2=5)"
   ]
  },
  {
   "cell_type": "markdown",
   "metadata": {},
   "source": [
    "## 4. Particle placement for spinning planetary profiles"
   ]
  },
  {
   "cell_type": "markdown",
   "metadata": {},
   "source": [
    "We place particles for the example used above (see [Ruiz-Bonilla et al. 2020](fgdfgdfg) for full details):"
   ]
  },
  {
   "cell_type": "code",
   "execution_count": null,
   "metadata": {},
   "outputs": [],
   "source": [
    "N         = 1e5 # Number of particles\n",
    "particles = woma.ParticleSet(l2_test_spin, N)"
   ]
  }
 ],
 "metadata": {
  "kernelspec": {
   "display_name": "Python 3",
   "language": "python",
   "name": "python3"
  },
  "language_info": {
   "codemirror_mode": {
    "name": "ipython",
    "version": 3
   },
   "file_extension": ".py",
   "mimetype": "text/x-python",
   "name": "python",
   "nbconvert_exporter": "python",
   "pygments_lexer": "ipython3",
   "version": "3.7.3"
  }
 },
 "nbformat": 4,
 "nbformat_minor": 2
}
