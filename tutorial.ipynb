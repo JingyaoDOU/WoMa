{
 "cells": [
  {
   "cell_type": "markdown",
   "metadata": {},
   "source": [
    "![WoMa](http://astro.dur.ac.uk/~cklv53/woma_logo.png \"WoMa\")\n",
    " <a id=\"top\"></a>"
   ]
  },
  {
   "cell_type": "markdown",
   "metadata": {},
   "source": [
    "# Welcome to WoMa"
   ]
  },
  {
   "cell_type": "markdown",
   "metadata": {},
   "source": [
    "This tutorial notebook covers the main features of WoMa. Let's get started!\n",
    "\n",
    "Also see the `README.md` for more documentation."
   ]
  },
  {
   "cell_type": "markdown",
   "metadata": {},
   "source": [
    "## Contents:\n",
    "[1.](#1_spherical_profiles) Spherical planetary profiles\n",
    "\n",
    "[2.](#2_spinning_profiles) Spinning planetary profiles\n",
    "\n",
    "[3.](#3_particles) Particle placement"
   ]
  },
  {
   "cell_type": "markdown",
   "metadata": {},
   "source": [
    "---"
   ]
  },
  {
   "cell_type": "markdown",
   "metadata": {},
   "source": [
    "#### 0. Quick notes\n",
    "Most WoMa functions take an optional `verbosity` argument that controls the amount of printed information. Set `0` for no printing, `1` for standard output, or `2` for extra details.\n",
    "\n",
    "Arrays in WoMa are explicitly labelled with a prefix `A1_`, or `An_` for an `n`-dimensional array.\n",
    "\n",
    "Further developments and extensions to WoMa are actively ongoing, so do let us know if there is a feature you would like, or of course if you find any bugs!"
   ]
  },
  {
   "cell_type": "markdown",
   "metadata": {},
   "source": [
    "---"
   ]
  },
  {
   "cell_type": "markdown",
   "metadata": {},
   "source": [
    " <a id=\"1_spherical_profiles\"></a>"
   ]
  },
  {
   "cell_type": "markdown",
   "metadata": {},
   "source": [
    " ## 1. Spherical planetary profiles"
   ]
  },
  {
   "cell_type": "markdown",
   "metadata": {},
   "source": [
    "First let's import WoMa, set some constants, and make a simple plotting function to display the planets we create:"
   ]
  },
  {
   "cell_type": "code",
   "execution_count": null,
   "metadata": {},
   "outputs": [],
   "source": [
    "import woma\n",
    "import matplotlib.pyplot as plt\n",
    "\n",
    "R_earth = 6.371e6   # m\n",
    "M_earth = 5.972e24  # kg m^-3 \n",
    "\n",
    "def plot_spherical_profiles(planet):    \n",
    "    fig, ax = plt.subplots(2, 2, figsize=(8,8))\n",
    "    \n",
    "    ax[0, 0].plot(planet.A1_r / R_earth, planet.A1_rho)\n",
    "    ax[0, 0].set_xlabel(r\"Radius, $r$ $[R_\\oplus]$\")\n",
    "    ax[0, 0].set_ylabel(r\"Density, $\\rho$ [kg m$^{-3}$]\")\n",
    "    ax[0, 0].set_yscale(\"log\")\n",
    "    ax[0, 0].set_xlim(0, None)\n",
    "    \n",
    "    ax[1, 0].plot(planet.A1_r / R_earth, planet.A1_m_enc / M_earth)\n",
    "    ax[1, 0].set_xlabel(r\"Radius, $r$ $[R_\\oplus]$\")\n",
    "    ax[1, 0].set_ylabel(r\"Enclosed Mass, $M_{<r}$ $[M_\\oplus]$\")\n",
    "    ax[1, 0].set_xlim(0, None)\n",
    "    ax[1, 0].set_ylim(0, None)\n",
    "    \n",
    "    ax[0, 1].plot(planet.A1_r / R_earth, planet.A1_P)\n",
    "    ax[0, 1].set_xlabel(r\"Radius, $r$ $[R_\\oplus]$\")\n",
    "    ax[0, 1].set_ylabel(r\"Pressure, $P$ [Pa]\")\n",
    "    ax[0, 1].set_yscale(\"log\")\n",
    "    ax[0, 1].set_xlim(0, None)\n",
    "    \n",
    "    ax[1, 1].plot(planet.A1_r / R_earth, planet.A1_T)\n",
    "    ax[1, 1].set_xlabel(r\"Radius, $r$ $[R_\\oplus]$\")\n",
    "    ax[1, 1].set_ylabel(r\"Temperature, $T$ [K]\")\n",
    "    ax[1, 1].set_xlim(0, None)\n",
    "    ax[1, 1].set_ylim(0, None)\n",
    "    \n",
    "    plt.tight_layout()\n",
    "    plt.show()"
   ]
  },
  {
   "cell_type": "markdown",
   "metadata": {},
   "source": [
    "### 1.1 One-layer planets"
   ]
  },
  {
   "cell_type": "markdown",
   "metadata": {},
   "source": [
    "Let's start by building a simple, spherical, 1 layer planet.\n",
    "\n",
    "WoMa provides many options for which inputs you provide and which are calculated. We'll cover other options later, or see `README.md` for the full documentation.\n",
    "\n",
    "For any planet we want to build, we need to specify:\n",
    "- The equation of state (EoS) for every material: e.g. Tillotson basalt. \n",
    "- A temperature--density relation for every material: e.g. adiabatic, or a power-law $T\\propto\\rho^\\alpha$ ($\\alpha=0$ for isothermal).\n",
    "- Two of the following three values at the surface of the planet: pressure $P_{\\rm s}$, temperature $T_{\\rm s}$, and density $\\rho_{\\rm s}$. e.g. $P_{\\rm s}=10^5\\, \\rm Pa$ and $T_{\\rm s}=1000\\, \\rm K$."
   ]
  },
  {
   "cell_type": "code",
   "execution_count": null,
   "metadata": {},
   "outputs": [],
   "source": [
    "planet = woma.Planet(\n",
    "    name            = \"my_first_planet\",\n",
    "    A1_mat_layer    = [\"Til_basalt\"],\n",
    "    A1_T_rho_type   = [\"power=2\"],\n",
    "    P_s             = 1e5,\n",
    "    T_s             = 500,\n",
    ")"
   ]
  },
  {
   "cell_type": "markdown",
   "metadata": {},
   "source": [
    "For spherical 1 layer planets we can specify either the total radius `R` or the total mass `M` of the planet, then WoMa will find the value for other such that we get a valid planet in hydrostatic equilibrium.\n",
    "\n",
    "Let's set our planet's radius to $1~R_\\oplus$. (We could have set this along with the other parameters in the previous cell.)"
   ]
  },
  {
   "cell_type": "code",
   "execution_count": null,
   "metadata": {},
   "outputs": [],
   "source": [
    "planet.R = R_earth"
   ]
  },
  {
   "cell_type": "markdown",
   "metadata": {},
   "source": [
    "We now select the appropiate method to make the planet profiles.\n",
    "\n",
    "In this case, we are generating (`gen_prof`) a one layer planet (`L1`) and need to find the mass (`find_M`) for our chosen radius (`given_R`). This function also needs a rough value for the maximum mass `M_max`, let's say a generous $2~M_\\oplus$."
   ]
  },
  {
   "cell_type": "code",
   "execution_count": null,
   "metadata": {},
   "outputs": [],
   "source": [
    "planet.gen_prof_L1_find_M_given_R(M_max=2 * M_earth)"
   ]
  },
  {
   "cell_type": "markdown",
   "metadata": {},
   "source": [
    "We can see from the printed output (or by printing `planet.M`) that the mass of our planet is about $\\tfrac{2}{3}~M_\\oplus$, along with other information.\n",
    "\n",
    "Let's plot the resulting profiles:"
   ]
  },
  {
   "cell_type": "code",
   "execution_count": null,
   "metadata": {},
   "outputs": [],
   "source": [
    "plot_spherical_profiles(planet)"
   ]
  },
  {
   "cell_type": "markdown",
   "metadata": {},
   "source": [
    "As mentioned above, we could instead set the total mass `M` to derive the radius. \n",
    "\n",
    "Let's also try an isothermal temperature relation."
   ]
  },
  {
   "cell_type": "code",
   "execution_count": null,
   "metadata": {
    "scrolled": true
   },
   "outputs": [],
   "source": [
    "planet = woma.Planet(\n",
    "    name            = \"my_second_planet\",\n",
    "    A1_mat_layer    = [\"Til_basalt\"],\n",
    "    A1_T_rho_type   = [\"power=0\"],\n",
    "    P_s             = 1e5,\n",
    "    T_s             = 500,\n",
    "    M               = M_earth,\n",
    ")\n",
    "\n",
    "# Generate the profiles\n",
    "planet.gen_prof_L1_find_R_given_M(R_max=2 * R_earth)\n",
    "\n",
    "# Plot the results\n",
    "plot_spherical_profiles(planet)"
   ]
  },
  {
   "cell_type": "markdown",
   "metadata": {},
   "source": [
    "### 1.2 Two-layer planets"
   ]
  },
  {
   "cell_type": "markdown",
   "metadata": {},
   "source": [
    "Let's move on to make some 2 layer planets. \n",
    "\n",
    "We'll also try some more realistic ANEOS equations of state for an Earth-like core and mantle, with adiabatic temperature--density relations:"
   ]
  },
  {
   "cell_type": "code",
   "execution_count": null,
   "metadata": {},
   "outputs": [],
   "source": [
    "planet = woma.Planet(\n",
    "    name            = \"hello_world\",\n",
    "    A1_mat_layer    = [\"ANEOS_Fe85Si15\", \"ANEOS_forsterite\"],\n",
    "    A1_T_rho_type   = [\"adiabatic\", \"adiabatic\"],\n",
    "    P_s             = 1e5,\n",
    "    T_s             = 1000,\n",
    ")"
   ]
  },
  {
   "cell_type": "markdown",
   "metadata": {},
   "source": [
    "For 2 layer planets we have more options for which properties of our planet we choose and which unknowns are derived. \n",
    "\n",
    "For example, we can set the total mass `M` and radius `R`, and get WoMa to find the boundary radius. (We could have set these along with the other parameters in the previous cell.)"
   ]
  },
  {
   "cell_type": "code",
   "execution_count": null,
   "metadata": {},
   "outputs": [],
   "source": [
    "planet.M = M_earth\n",
    "planet.R = R_earth\n",
    "\n",
    "# Generate the profiles\n",
    "planet.gen_prof_L2_find_R1_given_R_M()\n",
    "\n",
    "# Plot the results\n",
    "plot_spherical_profiles(planet)"
   ]
  },
  {
   "cell_type": "markdown",
   "metadata": {},
   "source": [
    "Or, we could set the masses of each layer, `A1_M_layer`, and get WoMa to find the radii of the boundary and the outer edge. As before, we also need to give a maximum possible radius.\n",
    "\n",
    "Let's try a random mix of SESAME and Tillotson materials with an adiabatic mantle and a power-law core:"
   ]
  },
  {
   "cell_type": "code",
   "execution_count": null,
   "metadata": {
    "scrolled": true
   },
   "outputs": [],
   "source": [
    "planet = woma.Planet(\n",
    "    A1_mat_layer    = [\"Til_iron\", \"SESAME_basalt\"],\n",
    "    A1_T_rho_type   = [\"power=0.5\", \"adiabatic\"],\n",
    "    P_s             = 1e5,\n",
    "    T_s             = 1000,\n",
    "    A1_M_layer      = [0.3 * M_earth, 0.7 * M_earth],\n",
    ")\n",
    "\n",
    "# Generate the profiles\n",
    "planet.gen_prof_L2_find_R1_R_given_M1_M2(R_max=2 * R_earth)\n",
    "\n",
    "# Plot the results\n",
    "plot_spherical_profiles(planet)"
   ]
  },
  {
   "cell_type": "markdown",
   "metadata": {},
   "source": [
    "### 1.3 Three-layer planets"
   ]
  },
  {
   "cell_type": "markdown",
   "metadata": {},
   "source": [
    "With 3 layers there are a huge number of possible inputs and unknowns, several but not all of which are available in WoMa. Some of these require repeated iterations over multiple variables, so can take several minutes.\n",
    "\n",
    "Further developments are ongoing, so if you have a particular choice of parameters that you'd like to set and/or determine then please let us know! You can of course do the iterations yourself, systematically varying an input to a WoMa function until you get the output you need.\n",
    "\n",
    "For example, let's create an ice giant by setting the total mass and the radii at the base and top of the atmosphere."
   ]
  },
  {
   "cell_type": "code",
   "execution_count": null,
   "metadata": {},
   "outputs": [],
   "source": [
    "planet = woma.Planet(\n",
    "    A1_mat_layer    = [\"HM80_rock\", \"HM80_ice\", \"HM80_HHe\"],\n",
    "    A1_T_rho_type   = [\"power=0\", \"power=0.9\", \"adiabatic\"],\n",
    "    P_s             = 1e5,\n",
    "    T_s             = 70,\n",
    "    M               = 14.5 * M_earth,\n",
    "    A1_R_layer      = [None, 3 * R_earth, 4 * R_earth],\n",
    ")\n",
    "\n",
    "# Generate the profiles\n",
    "planet.gen_prof_L3_find_R1_given_R_M_R2()\n",
    "\n",
    "# Plot the results\n",
    "plot_spherical_profiles(planet)"
   ]
  },
  {
   "cell_type": "markdown",
   "metadata": {},
   "source": [
    "Let's make one final Earth-like (ish) planet and add an atmosphere on top of the inner two layers, choosing their masses. The atmosphere's mass will depend primarily on the pressure at its base.\n",
    "\n",
    "In this case, the input \"surface\" `_s` parameters set the conditions at the base of the atmosphere, i.e. the surface of the inner two layers.\n",
    "\n",
    "We also need to set the minimum density at which our atmosphere will stop, since in this case the third layer profiles are integrated outwards."
   ]
  },
  {
   "cell_type": "code",
   "execution_count": null,
   "metadata": {},
   "outputs": [],
   "source": [
    "planet = woma.Planet(\n",
    "    A1_mat_layer    = [\"Til_iron\", \"Til_basalt\", \"SESAME_N2\"],\n",
    "    A1_T_rho_type   = [\"power=2\", \"power=2\", \"power=0\"],\n",
    "    A1_M_layer      = [0.3 * M_earth, 0.7 * M_earth, None],\n",
    "    P_s             = 1e8,\n",
    "    T_s             = 1000,\n",
    ")\n",
    "\n",
    "# Generate the profiles\n",
    "planet.gen_prof_L3_find_R1_R2_given_M1_M2_add_L3(rho_min=1, R_max=3 * R_earth)\n",
    "\n",
    "# Plot the results\n",
    "plot_spherical_profiles(planet)"
   ]
  },
  {
   "cell_type": "markdown",
   "metadata": {},
   "source": [
    "---"
   ]
  },
  {
   "cell_type": "markdown",
   "metadata": {},
   "source": [
    " <a id=\"2_spinning_profiles\"></a>"
   ]
  },
  {
   "cell_type": "markdown",
   "metadata": {},
   "source": [
    "[Back to Contents](#top)"
   ]
  },
  {
   "cell_type": "markdown",
   "metadata": {},
   "source": [
    "## 3. Spinning planetary profiles"
   ]
  },
  {
   "cell_type": "markdown",
   "metadata": {},
   "source": [
    "As we did for the spherical profiles, let's first import WoMa, set some constants, and make a simple plotting function to display the planets we create.\n",
    "\n",
    "As described in [Ruiz-Bonilla et al. 2020](...), we can model a spinning body as a system of concentric spheroids of constant density. This means the full 3D density profile (and temperature etc.) can be described using just the 1D equatorial and polar profiles."
   ]
  },
  {
   "cell_type": "code",
   "execution_count": 1,
   "metadata": {},
   "outputs": [],
   "source": [
    "import woma\n",
    "import matplotlib.pyplot as plt\n",
    "from matplotlib.colors import LogNorm\n",
    "import numpy as np\n",
    "\n",
    "R_earth = 6.371e6   # m\n",
    "M_earth = 5.972e24  # kg m^-3 \n",
    "\n",
    "def plot_spinning_profiles(p):    \n",
    "    fig, ax = plt.subplots(1, 2, figsize=(12,6))\n",
    "    \n",
    "    ax[0].plot(p.A1_r / R_earth, p.A1_rho, label=\"original spherical\")\n",
    "    ax[0].plot(p.A1_r_eq / R_earth, p.A1_rho_eq, label=\"equatorial\")\n",
    "    ax[0].plot(p.A1_r_po / R_earth, p.A1_rho_po, label=\"polar\")\n",
    "    ax[0].set_xlabel(r\"Radius, $r$ $[R_\\oplus]$\")\n",
    "    ax[0].set_ylabel(r\"Density, $\\rho$ [kg m$^{-3}$]\")\n",
    "    ax[0].set_yscale(\"log\")\n",
    "    ax[0].set_xlim(0, 1.2 * p.A1_r[-1] / R_earth)\n",
    "    ax[0].legend()\n",
    "    \n",
    "    A1_r_grid = np.linspace(0, np.max(p.A1_r_eq), 200)\n",
    "    A1_z_grid = np.linspace(0, np.max(p.A1_r_po), 200)\n",
    "    A2_rho_grid = np.zeros((A1_r_grid.shape[0], A1_z_grid.shape[0]))\n",
    "    for i in range(A2_rho_grid.shape[0]):\n",
    "        radius = A1_r_grid[i]\n",
    "        for j in range(A2_rho_grid.shape[1]):\n",
    "            z = A1_z_grid[j]\n",
    "            A2_rho_grid[i, j] = woma.rho_at_r_z(\n",
    "                radius, z, p.A1_r_eq, p.A1_rho_eq, p.A1_r_po, p.A1_rho_po\n",
    "            )\n",
    "    \n",
    "    X, Y = np.meshgrid(A1_r_grid / R_earth, A1_z_grid / R_earth)\n",
    "    Z = A2_rho_grid.T\n",
    "    Z[Z == 0] = np.nan\n",
    "    cmesh = ax[1].pcolormesh(X, Y, Z, norm=LogNorm())\n",
    "    cbar = plt.colorbar(cmesh)\n",
    "    cbar.ax.set_ylabel(r\"Density [kg m$^{-3}$]\")\n",
    "    ax[1].set_aspect(\"equal\")\n",
    "    ax[1].set_xlabel(r\"Equatorial Radius, $r_{xy}$ $[R_\\oplus]$\")\n",
    "    ax[1].set_ylabel(r\"Polar Radius, $z$ $[R_\\oplus]$\")\n",
    "    \n",
    "    plt.tight_layout()\n",
    "    plt.show()"
   ]
  },
  {
   "cell_type": "markdown",
   "metadata": {},
   "source": [
    "To construct a spheroidal planet in WoMa we start from a spherical profile. Let's remake one of the simple 2 layer examples from the previous section as our input."
   ]
  },
  {
   "cell_type": "code",
   "execution_count": null,
   "metadata": {},
   "outputs": [],
   "source": [
    "planet = woma.Planet(\n",
    "    A1_mat_layer    = [\"Til_iron\", \"Til_basalt\"],\n",
    "    A1_T_rho_type   = [\"power=2\", \"power=2\"],\n",
    "    P_s             = 1e5,\n",
    "    T_s             = 1000,\n",
    "    M               = M_earth,\n",
    "    A1_R_layer      = [None, R_earth],\n",
    ")\n",
    "\n",
    "# Generate the profiles\n",
    "planet.gen_prof_L2_find_R1_given_R_M(verbosity=0)"
   ]
  },
  {
   "cell_type": "markdown",
   "metadata": {},
   "source": [
    "We now use the `SpinPlanet` class and pass it the spherical planet with the period we want. Note the period is set in units of hours.\n",
    "\n",
    "Let's try a very rapid rotation for our Earth-like planet of 5 hours.\n",
    "\n",
    "The simplest option is to then call the minimal `spin()` function to create our rotating planet."
   ]
  },
  {
   "cell_type": "code",
   "execution_count": null,
   "metadata": {},
   "outputs": [],
   "source": [
    "planet = woma.SpinPlanet(\n",
    "    planet = two_layer_planet,\n",
    "    period = 5, # h\n",
    ")\n",
    "\n",
    "# Generate the spinning profiles\n",
    "planet.spin()"
   ]
  },
  {
   "cell_type": "markdown",
   "metadata": {},
   "source": [
    "Let's plot the resulting profiles:"
   ]
  },
  {
   "cell_type": "code",
   "execution_count": null,
   "metadata": {},
   "outputs": [],
   "source": [
    "plot_spinning_profiles(planet)"
   ]
  },
  {
   "cell_type": "markdown",
   "metadata": {},
   "source": [
    "We can see from the printed output that our spinning planet has a slightly different mass to the spherical input by default.\n",
    "\n",
    "To keep the mass the same, simply set the `fix_mass` argument to `True`, which just requires a little extra iteration:"
   ]
  },
  {
   "cell_type": "code",
   "execution_count": null,
   "metadata": {},
   "outputs": [],
   "source": [
    "spinning_planet = woma.spin_planet_fix_M(\n",
    "    planet      = two_layer_planet, \n",
    "    period      = 5, # h\n",
    "    max_iter_1  = 5,\n",
    "    max_iter_2  = 5,\n",
    ")"
   ]
  },
  {
   "cell_type": "code",
   "execution_count": null,
   "metadata": {},
   "outputs": [],
   "source": [
    "spinning_planet = woma.SpinPlanet(\n",
    "    planet = two_layer_planet,\n",
    "    period = 3, # hours\n",
    ")\n",
    "\n",
    "# Generate the spinning profiles\n",
    "spinning_planet.spin(fix_mass=True)\n",
    "\n",
    "# Plot the results\n",
    "plot_spinning_profiles(spinning_planet)"
   ]
  },
  {
   "cell_type": "markdown",
   "metadata": {},
   "source": [
    "WoMa also calculates the minimum possible period for this planet, i.e. the fastest it can spin before flying apart.\n",
    "\n",
    "Let's compute the spinning planetary profile of the planet with its minimum period:"
   ]
  },
  {
   "cell_type": "code",
   "execution_count": null,
   "metadata": {},
   "outputs": [],
   "source": [
    "l2_test_spin = woma.SpinPlanet(\n",
    "    planet  = l2_test,\n",
    "    R_e_max = 2.3 * R_earth,\n",
    "    R_p_max = 1.3 * R_earth,\n",
    "    period  = 0.001  # h\n",
    ")\n",
    "\n",
    "l2_test_spin.spin()\n",
    "\n",
    "plot_spin_profile(l2_test_spin)"
   ]
  },
  {
   "cell_type": "markdown",
   "metadata": {},
   "source": [
    "---"
   ]
  },
  {
   "cell_type": "markdown",
   "metadata": {},
   "source": [
    " <a id=\"3_particles\"></a>"
   ]
  },
  {
   "cell_type": "markdown",
   "metadata": {},
   "source": [
    "[Back to Contents](#top)"
   ]
  },
  {
   "cell_type": "markdown",
   "metadata": {},
   "source": [
    "## 3. Particle placement (e.g. for SPH) "
   ]
  },
  {
   "cell_type": "markdown",
   "metadata": {},
   "source": [
    "Creating particle representations with WoMa is done in the same way for spinning and spherical planets.\n",
    "\n",
    "For spherical profiles, we use the fast SEA algorithm ([Kegerreis et al. 2019](https://doi.org/10.1093/mnras/stz1606)) to place particles to precisely match the profile densities. \n",
    "\n",
    "For spinning profiles, we use a modified version of SEA as described in [Ruiz-Bonilla et al. 2020](...).\n",
    "\n",
    "The particles' other properties (e.g. temperature, material type) all match the input profiles too, with ~equal mass for all particles. The concentric shells of particles also align automatically with any material and surface boundaries in the profiles.\n",
    "\n",
    "Further documentation and examples for the [SEAGen](https://pypi.org/project/seagen/) python package are available at [github.com/jkeger/seagen](https://github.com/jkeger/seagen).\n",
    "\n",
    "Try `verbosity=1` or `2` for more information as well."
   ]
  },
  {
   "cell_type": "code",
   "execution_count": 2,
   "metadata": {},
   "outputs": [],
   "source": [
    "import woma\n",
    "\n",
    "R_earth = 6.371e6   # m\n",
    "M_earth = 5.972e24  # kg m^-3 "
   ]
  },
  {
   "cell_type": "markdown",
   "metadata": {},
   "source": [
    "Let's start with a simple 2 layer spherical planet like we did above, then create two versions with sets of $10^5$ and $10^7$ particles:"
   ]
  },
  {
   "cell_type": "code",
   "execution_count": 3,
   "metadata": {},
   "outputs": [
    {
     "name": "stdout",
     "output_type": "stream",
     "text": [
      "Iteration 10/40. Tolerance reached 8.09e-04/0.001\n",
      "Tweaking M to avoid peaks at the center of the planet...\n",
      "Iteration 23/40. Tolerance reached 6.26e-08/1e-07\n",
      "Done!\n",
      "Planet \"None\": \n",
      "    M            = 5.9702e+24  kg  = 0.99962  M_earth\n",
      "    R            = 6.371e+06  m  = 1  R_earth\n",
      "    mat          = [\"Til_iron\", \"Til_basalt\"] \n",
      "    mat_id       = [100, 103] \n",
      "    T_rho_type   = [\"power=2\", \"power=2\"] \n",
      "    R_layer      = [0.60296, 1]  R_earth\n",
      "    M_layer      = [0.48997, 0.50966]  M_earth\n",
      "    M_frac_layer = [0.49015, 0.50985]  M_tot\n",
      "    idx_layer    = [6029, 9999] \n",
      "    P_s          = 1e+05  Pa\n",
      "    T_s          = 1000  K\n",
      "    rho_s        = 2269.4  kg m^-3\n",
      "    P_1          = 1.0959e+11  Pa\n",
      "    T_1          = 4708.8  K\n",
      "    rho_1        = 10398  kg m^-3\n",
      "    P_0          = 4.7201e+11  Pa\n",
      "    T_0          = 9725.5  K\n",
      "    rho_0        = 14944  kg m^-3\n",
      "    I_MR2        = 0.29618  M_tot*R_tot^2\n"
     ]
    }
   ],
   "source": [
    "planet = woma.Planet(\n",
    "    A1_mat_layer    = [\"Til_iron\", \"Til_basalt\"],\n",
    "    A1_T_rho_type   = [\"power=2\", \"power=2\"],\n",
    "    P_s             = 1e5,\n",
    "    T_s             = 1000,\n",
    "    M               = M_earth,\n",
    "    R               = R_earth,\n",
    ")\n",
    "\n",
    "# Generate the profiles\n",
    "planet.gen_prof_L2_find_R1_given_R_M()"
   ]
  },
  {
   "cell_type": "code",
   "execution_count": null,
   "metadata": {},
   "outputs": [],
   "source": [
    "# Create the sets of particles\n",
    "particles_low_res = woma.ParticlePlanet(planet, 1e5, verbosity=0)\n",
    "\n",
    "particles_high_res = woma.ParticlePlanet(planet, 1e7, verbosity=0)"
   ]
  },
  {
   "cell_type": "markdown",
   "metadata": {},
   "source": [
    "We can now print, save, or do whatever we like with the particle data. \n",
    "\n",
    "See the `ParticlePlanet` class docstring in `woma/main.py` for the full output documentation.\n",
    "\n",
    "For example, let's just print the position, mass, density, and temperature of the 123$^{\\rm rd}$ particle:"
   ]
  },
  {
   "cell_type": "code",
   "execution_count": null,
   "metadata": {},
   "outputs": [],
   "source": [
    "print(particles_high_res.A2_pos[123] / R_earth, \"R_earth\")\n",
    "print(particles_high_res.A1_m[123] / M_earth, \"M_earth\")\n",
    "print(particles_high_res.A1_rho[123], \"kg m^-3\")\n",
    "print(particles_high_res.A1_T[123], \"K\")"
   ]
  },
  {
   "cell_type": "markdown",
   "metadata": {},
   "source": [
    "Note that the resulting number of particles may be slightly different from our input value. \n",
    "\n",
    "This is a consequence of needing to place integer numbers of particles in each shell, combined with the particle-mass tweaking required to align the particle shells with the profile boundaries."
   ]
  },
  {
   "cell_type": "code",
   "execution_count": null,
   "metadata": {},
   "outputs": [],
   "source": [
    "print(particles_low_res.N_particles)\n",
    "print(particles_high_res.N_particles)"
   ]
  },
  {
   "cell_type": "markdown",
   "metadata": {},
   "source": [
    "For a smoothed particle hydrodynamics (SPH) simulation, we can also input the number of neighbours for a quick and crude estimate of each particle's smoothing length from its density."
   ]
  },
  {
   "cell_type": "code",
   "execution_count": null,
   "metadata": {},
   "outputs": [],
   "source": [
    "particles_low_res = woma.ParticlePlanet(planet, 1e5, N_ngb=48, verbosity=0)\n",
    "\n",
    "print(particles_low_res.A1_h[123] / R_earth, \"R_earth\")"
   ]
  },
  {
   "cell_type": "markdown",
   "metadata": {},
   "source": [
    "Everything works the same for a spinning planet.\n",
    "\n",
    "Let's give our example planet a pretty rapid rotation period, then place particles as before."
   ]
  },
  {
   "cell_type": "code",
   "execution_count": 4,
   "metadata": {},
   "outputs": [
    {
     "name": "stderr",
     "output_type": "stream",
     "text": [
      "Computing spinning profile:   0%|          | 0/15 [00:42<?, ?it/s]"
     ]
    },
    {
     "name": "stdout",
     "output_type": "stream",
     "text": [
      "Tolerance level criteria reached.\n",
      "Planet \"None\": \n",
      "    period       = 6  h\n",
      "    M            = 5.989e+24  kg  = 1.0028  M_earth\n",
      "    R_eq         = 6.4922e+06  m  = 1.019  R_earth\n",
      "    R_po         = 6.1988e+06  m  = 0.97297  R_earth\n",
      "    mat          = [\"Til_iron\", \"Til_basalt\"] \n",
      "    mat_id       = [100, 103] \n",
      "    R_layer_eq   = [0.6046, 1.019]  R_earth\n",
      "    R_layer_po   = [0.58498, 0.97297]  R_earth\n",
      "    M_layer      = [0.4858, 0.51698]  M_earth\n",
      "    M_frac_layer = [0.48445, 0.51555]  M_tot\n",
      "    P_s          = 1e+05  Pa\n",
      "    T_s          = 1001.5  K\n",
      "    rho_s        = 2269.4  kg m^-3\n",
      "    P_1          = 1.0959e+11  Pa\n",
      "    T_1          = 4708.8  K\n",
      "    rho_1        = 10398  kg m^-3\n",
      "    P_0          = 4.7201e+11  Pa\n",
      "    T_0          = 7039.6  K\n",
      "    rho_0        = 14944  kg m^-3\n"
     ]
    },
    {
     "name": "stderr",
     "output_type": "stream",
     "text": [
      "\n"
     ]
    }
   ],
   "source": [
    "spin_planet = woma.SpinPlanet(\n",
    "    planet  = planet,\n",
    "    period  = 6,  # h\n",
    ")\n",
    "\n",
    "spin_planet.spin()"
   ]
  },
  {
   "cell_type": "code",
   "execution_count": 5,
   "metadata": {},
   "outputs": [
    {
     "name": "stdout",
     "output_type": "stream",
     "text": [
      "0.0\n",
      "0.0\n",
      "0.0\n",
      "0.0\n",
      "6492170.17017017\n",
      "6198820.440092194\n"
     ]
    },
    {
     "ename": "ZeroDivisionError",
     "evalue": "division by zero",
     "output_type": "error",
     "traceback": [
      "\u001b[0;31m---------------------------------------------------------------------------\u001b[0m",
      "\u001b[0;31mZeroDivisionError\u001b[0m                         Traceback (most recent call last)",
      "\u001b[0;32m<ipython-input-5-eff5b50d0e5a>\u001b[0m in \u001b[0;36m<module>\u001b[0;34m\u001b[0m\n\u001b[0;32m----> 1\u001b[0;31m \u001b[0mplot_spinning_profiles\u001b[0m\u001b[0;34m(\u001b[0m\u001b[0mspin_planet\u001b[0m\u001b[0;34m)\u001b[0m \u001b[0;31m####\u001b[0m\u001b[0;34m\u001b[0m\u001b[0;34m\u001b[0m\u001b[0m\n\u001b[0m",
      "\u001b[0;32m<ipython-input-1-b4041b7407db>\u001b[0m in \u001b[0;36mplot_spinning_profiles\u001b[0;34m(p)\u001b[0m\n\u001b[1;32m     27\u001b[0m             \u001b[0mz\u001b[0m \u001b[0;34m=\u001b[0m \u001b[0mA1_z_grid\u001b[0m\u001b[0;34m[\u001b[0m\u001b[0mj\u001b[0m\u001b[0;34m]\u001b[0m\u001b[0;34m\u001b[0m\u001b[0;34m\u001b[0m\u001b[0m\n\u001b[1;32m     28\u001b[0m             A2_rho_grid[i, j] = woma.rho_at_r_z(\n\u001b[0;32m---> 29\u001b[0;31m                 \u001b[0mradius\u001b[0m\u001b[0;34m,\u001b[0m \u001b[0mz\u001b[0m\u001b[0;34m,\u001b[0m \u001b[0mp\u001b[0m\u001b[0;34m.\u001b[0m\u001b[0mA1_r_eq\u001b[0m\u001b[0;34m,\u001b[0m \u001b[0mp\u001b[0m\u001b[0;34m.\u001b[0m\u001b[0mA1_rho_eq\u001b[0m\u001b[0;34m,\u001b[0m \u001b[0mp\u001b[0m\u001b[0;34m.\u001b[0m\u001b[0mA1_r_po\u001b[0m\u001b[0;34m,\u001b[0m \u001b[0mp\u001b[0m\u001b[0;34m.\u001b[0m\u001b[0mA1_rho_po\u001b[0m\u001b[0;34m\u001b[0m\u001b[0;34m\u001b[0m\u001b[0m\n\u001b[0m\u001b[1;32m     30\u001b[0m             )\n\u001b[1;32m     31\u001b[0m \u001b[0;34m\u001b[0m\u001b[0m\n",
      "\u001b[0;32m/mnt/c/Dropbox/gihr/woma/woma/spin_funcs/utils_spin.py\u001b[0m in \u001b[0;36mrho_at_r_z\u001b[0;34m(r, z, A1_r_eq, A1_rho_eq, A1_r_po, A1_rho_po)\u001b[0m\n\u001b[1;32m    267\u001b[0m     \u001b[0mprint\u001b[0m\u001b[0;34m(\u001b[0m\u001b[0mR_1\u001b[0m\u001b[0;34m)\u001b[0m\u001b[0;34m\u001b[0m\u001b[0;34m\u001b[0m\u001b[0m\n\u001b[1;32m    268\u001b[0m     \u001b[0mprint\u001b[0m\u001b[0;34m(\u001b[0m\u001b[0mZ_1\u001b[0m\u001b[0;34m)\u001b[0m\u001b[0;34m\u001b[0m\u001b[0;34m\u001b[0m\u001b[0m\n\u001b[0;32m--> 269\u001b[0;31m     \u001b[0mellipse_eqn_0\u001b[0m \u001b[0;34m=\u001b[0m \u001b[0mellipse_eqn\u001b[0m\u001b[0;34m(\u001b[0m\u001b[0mr\u001b[0m\u001b[0;34m,\u001b[0m \u001b[0mz\u001b[0m\u001b[0;34m,\u001b[0m \u001b[0mR_0\u001b[0m\u001b[0;34m,\u001b[0m \u001b[0mZ_0\u001b[0m\u001b[0;34m)\u001b[0m\u001b[0;34m\u001b[0m\u001b[0;34m\u001b[0m\u001b[0m\n\u001b[0m\u001b[1;32m    270\u001b[0m     \u001b[0mellipse_eqn_1\u001b[0m \u001b[0;34m=\u001b[0m \u001b[0mellipse_eqn\u001b[0m\u001b[0;34m(\u001b[0m\u001b[0mr\u001b[0m\u001b[0;34m,\u001b[0m \u001b[0mz\u001b[0m\u001b[0;34m,\u001b[0m \u001b[0mR_1\u001b[0m\u001b[0;34m,\u001b[0m \u001b[0mZ_1\u001b[0m\u001b[0;34m)\u001b[0m\u001b[0;34m\u001b[0m\u001b[0;34m\u001b[0m\u001b[0m\n\u001b[1;32m    271\u001b[0m \u001b[0;34m\u001b[0m\u001b[0m\n",
      "\u001b[0;31mZeroDivisionError\u001b[0m: division by zero"
     ]
    },
    {
     "data": {
      "image/png": "[encoded data removed]",
      "text/plain": [
       "<Figure size 864x432 with 2 Axes>"
      ]
     },
     "metadata": {
      "needs_background": "light"
     },
     "output_type": "display_data"
    }
   ],
   "source": [
    "plot_spinning_profiles(spin_planet) ####"
   ]
  },
  {
   "cell_type": "code",
   "execution_count": null,
   "metadata": {},
   "outputs": [],
   "source": [
    "particles = woma.ParticlePlanet(spin_planet, 1e6, N_ngb=48, verbosity=0)\n",
    "\n",
    "print(particles_high_res.A2_pos[123] / R_earth, \"R_earth\")"
   ]
  },
  {
   "cell_type": "markdown",
   "metadata": {},
   "source": [
    "---"
   ]
  },
  {
   "cell_type": "markdown",
   "metadata": {},
   "source": [
    "[Back to Contents](#top)"
   ]
  }
 ],
 "metadata": {
  "kernelspec": {
   "display_name": "Python 3",
   "language": "python",
   "name": "python3"
  },
  "language_info": {
   "codemirror_mode": {
    "name": "ipython",
    "version": 3
   },
   "file_extension": ".py",
   "mimetype": "text/x-python",
   "name": "python",
   "nbconvert_exporter": "python",
   "pygments_lexer": "ipython3",
   "version": "3.6.9"
  }
 },
 "nbformat": 4,
 "nbformat_minor": 2
}
