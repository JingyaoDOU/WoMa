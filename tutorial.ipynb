{
 "cells": [
  {
   "cell_type": "markdown",
   "metadata": {},
   "source": [
    "![WoMa](http://astro.dur.ac.uk/~cklv53/woma_logo.png \"WoMa\")\n",
    " <a id=\"top\"></a>"
   ]
  },
  {
   "cell_type": "markdown",
   "metadata": {},
   "source": [
    "# Welcome to WoMa"
   ]
  },
  {
   "cell_type": "markdown",
   "metadata": {},
   "source": [
    "This tutorial notebook covers the main features of WoMa. Let's get started!\n",
    "\n",
    "Also see the `README.md` for more documentation."
   ]
  },
  {
   "cell_type": "markdown",
   "metadata": {},
   "source": [
    "## Contents:\n",
    "[1.](#1_spherical_profiles) Spherical profiles\n",
    "\n",
    "[2.](#2_spinning_profiles) Spinning profiles\n",
    "\n",
    "[3.](#3_particles) Particle placement"
   ]
  },
  {
   "cell_type": "markdown",
   "metadata": {},
   "source": [
    "#### Quick notes\n",
    "We refer to the bodies as \"planets\" but these methods can be applied to anything in hydrostatic equilibrium.\n",
    "\n",
    "See [Ruiz-Bonilla et al. 2020](...) for the full descriptions of the methods.\n",
    "\n",
    "Most WoMa functions take an optional `verbosity` argument that controls the amount of printed information. Set `0` for no printing, `1` for standard output, or `2` for extra details.\n",
    "\n",
    "Arrays in WoMa are explicitly labelled with a prefix `A1_`, or `An_` for an `n`-dimensional array.\n",
    "\n",
    "Further developments and extensions to WoMa are actively ongoing, so do let us know if there is a feature you would like, or of course if you find any bugs!"
   ]
  },
  {
   "cell_type": "markdown",
   "metadata": {},
   "source": [
    "---"
   ]
  },
  {
   "cell_type": "markdown",
   "metadata": {},
   "source": [
    " <a id=\"1_spherical_profiles\"></a>"
   ]
  },
  {
   "cell_type": "markdown",
   "metadata": {},
   "source": [
    " ## 1. Spherical profiles"
   ]
  },
  {
   "cell_type": "markdown",
   "metadata": {},
   "source": [
    "First let's import WoMa, set some constants, and make a simple plotting function to display the planets we create:"
   ]
  },
  {
   "cell_type": "code",
   "execution_count": 1,
   "metadata": {},
   "outputs": [],
   "source": [
    "import woma\n",
    "import matplotlib.pyplot as plt\n",
    "\n",
    "R_earth = 6.371e6   # m\n",
    "M_earth = 5.972e24  # kg m^-3 \n",
    "\n",
    "def plot_spherical_profiles(planet):    \n",
    "    fig, ax = plt.subplots(2, 2, figsize=(8,8))\n",
    "    \n",
    "    ax[0, 0].plot(planet.A1_r / R_earth, planet.A1_rho)\n",
    "    ax[0, 0].set_xlabel(r\"Radius, $r$ $[R_\\oplus]$\")\n",
    "    ax[0, 0].set_ylabel(r\"Density, $\\rho$ [kg m$^{-3}$]\")\n",
    "    ax[0, 0].set_yscale(\"log\")\n",
    "    ax[0, 0].set_xlim(0, None)\n",
    "    \n",
    "    ax[1, 0].plot(planet.A1_r / R_earth, planet.A1_m_enc / M_earth)\n",
    "    ax[1, 0].set_xlabel(r\"Radius, $r$ $[R_\\oplus]$\")\n",
    "    ax[1, 0].set_ylabel(r\"Enclosed Mass, $M_{<r}$ $[M_\\oplus]$\")\n",
    "    ax[1, 0].set_xlim(0, None)\n",
    "    ax[1, 0].set_ylim(0, None)\n",
    "    \n",
    "    ax[0, 1].plot(planet.A1_r / R_earth, planet.A1_P)\n",
    "    ax[0, 1].set_xlabel(r\"Radius, $r$ $[R_\\oplus]$\")\n",
    "    ax[0, 1].set_ylabel(r\"Pressure, $P$ [Pa]\")\n",
    "    ax[0, 1].set_yscale(\"log\")\n",
    "    ax[0, 1].set_xlim(0, None)\n",
    "    \n",
    "    ax[1, 1].plot(planet.A1_r / R_earth, planet.A1_T)\n",
    "    ax[1, 1].set_xlabel(r\"Radius, $r$ $[R_\\oplus]$\")\n",
    "    ax[1, 1].set_ylabel(r\"Temperature, $T$ [K]\")\n",
    "    ax[1, 1].set_xlim(0, None)\n",
    "    ax[1, 1].set_ylim(0, None)\n",
    "    \n",
    "    plt.tight_layout()\n",
    "    plt.show()"
   ]
  },
  {
   "cell_type": "markdown",
   "metadata": {},
   "source": [
    "### 1.1 One-layer planets"
   ]
  },
  {
   "cell_type": "markdown",
   "metadata": {},
   "source": [
    "Let's start by building a simple, spherical, 1 layer planet.\n",
    "\n",
    "WoMa provides many options for which inputs you provide and which are calculated. We'll cover other options later, or see `README.md` for the full documentation.\n",
    "\n",
    "For any planet we want to build, we need to specify:\n",
    "- The equation of state (EoS) for every material: e.g. Tillotson basalt. \n",
    "- A temperature--density relation for every material: e.g. adiabatic, or a power-law $T\\propto\\rho^\\alpha$ ($\\alpha=0$ for isothermal).\n",
    "- Two of the following three values at the surface of the planet: pressure $P_{\\rm s}$, temperature $T_{\\rm s}$, and density $\\rho_{\\rm s}$. e.g. $P_{\\rm s}=10^5\\, \\rm Pa$ and $T_{\\rm s}=1000\\, \\rm K$."
   ]
  },
  {
   "cell_type": "code",
   "execution_count": null,
   "metadata": {},
   "outputs": [],
   "source": [
    "planet = woma.Planet(\n",
    "    name            = \"my_first_planet\",\n",
    "    A1_mat_layer    = [\"Til_basalt\"],\n",
    "    A1_T_rho_type   = [\"power=2\"],\n",
    "    P_s             = 1e5,\n",
    "    T_s             = 500,\n",
    ")"
   ]
  },
  {
   "cell_type": "markdown",
   "metadata": {},
   "source": [
    "For spherical 1 layer planets we can specify either the total radius `R` or the total mass `M` of the planet, then WoMa will find the value for other such that we get a valid planet in hydrostatic equilibrium.\n",
    "\n",
    "Let's set our planet's radius to $1~R_\\oplus$. (We could have set this along with the other parameters in the previous cell.)"
   ]
  },
  {
   "cell_type": "code",
   "execution_count": null,
   "metadata": {},
   "outputs": [],
   "source": [
    "planet.R = R_earth"
   ]
  },
  {
   "cell_type": "markdown",
   "metadata": {},
   "source": [
    "We now select the appropiate method to make the planet profiles.\n",
    "\n",
    "In this case, we are generating (`gen_prof`) a one layer planet (`L1`) and need to find the mass (`find_M`) for our chosen radius (`given_R`). This function also needs a rough value for the maximum mass `M_max`, let's say a generous $2~M_\\oplus$."
   ]
  },
  {
   "cell_type": "code",
   "execution_count": null,
   "metadata": {},
   "outputs": [],
   "source": [
    "planet.gen_prof_L1_find_M_given_R(M_max=2 * M_earth)"
   ]
  },
  {
   "cell_type": "markdown",
   "metadata": {},
   "source": [
    "We can see from the printed output (or by printing `planet.M`) that the mass of our planet is about $\\tfrac{2}{3}~M_\\oplus$, along with other information.\n",
    "\n",
    "Let's plot the resulting profiles:"
   ]
  },
  {
   "cell_type": "code",
   "execution_count": null,
   "metadata": {},
   "outputs": [],
   "source": [
    "plot_spherical_profiles(planet)"
   ]
  },
  {
   "cell_type": "markdown",
   "metadata": {},
   "source": [
    "As mentioned above, we could instead set the total mass `M` to derive the radius. \n",
    "\n",
    "Let's also try an isothermal temperature relation."
   ]
  },
  {
   "cell_type": "code",
   "execution_count": null,
   "metadata": {
    "scrolled": true
   },
   "outputs": [],
   "source": [
    "planet = woma.Planet(\n",
    "    name            = \"my_second_planet\",\n",
    "    A1_mat_layer    = [\"Til_basalt\"],\n",
    "    A1_T_rho_type   = [\"power=0\"],\n",
    "    P_s             = 1e5,\n",
    "    T_s             = 500,\n",
    "    M               = M_earth,\n",
    ")\n",
    "\n",
    "# Generate the profiles\n",
    "planet.gen_prof_L1_find_R_given_M(R_max=2 * R_earth)\n",
    "\n",
    "# Plot the results\n",
    "plot_spherical_profiles(planet)"
   ]
  },
  {
   "cell_type": "markdown",
   "metadata": {},
   "source": [
    "### 1.2 Two-layer planets"
   ]
  },
  {
   "cell_type": "markdown",
   "metadata": {},
   "source": [
    "Let's move on to make some 2 layer planets. \n",
    "\n",
    "We'll also try some more realistic ANEOS equations of state for an Earth-like core and mantle, with adiabatic temperature--density relations:"
   ]
  },
  {
   "cell_type": "code",
   "execution_count": null,
   "metadata": {},
   "outputs": [],
   "source": [
    "planet = woma.Planet(\n",
    "    name            = \"hello_world\",\n",
    "    A1_mat_layer    = [\"ANEOS_Fe85Si15\", \"ANEOS_forsterite\"],\n",
    "    A1_T_rho_type   = [\"adiabatic\", \"adiabatic\"],\n",
    "    P_s             = 1e5,\n",
    "    T_s             = 1000,\n",
    ")"
   ]
  },
  {
   "cell_type": "markdown",
   "metadata": {},
   "source": [
    "For 2 layer planets we have more options for which properties of our planet we choose and which unknowns are derived. \n",
    "\n",
    "For example, we can set the total mass `M` and radius `R`, and get WoMa to find the boundary radius. (We could have set these along with the other parameters in the previous cell.)"
   ]
  },
  {
   "cell_type": "code",
   "execution_count": null,
   "metadata": {},
   "outputs": [],
   "source": [
    "planet.M = M_earth\n",
    "planet.R = R_earth\n",
    "\n",
    "# Generate the profiles\n",
    "planet.gen_prof_L2_find_R1_given_R_M()\n",
    "\n",
    "# Plot the results\n",
    "plot_spherical_profiles(planet)"
   ]
  },
  {
   "cell_type": "markdown",
   "metadata": {},
   "source": [
    "Or, we could set the masses of each layer, `A1_M_layer`, and get WoMa to find the radii of the boundary and the outer edge. As before, we also need to give a maximum possible radius.\n",
    "\n",
    "Let's try a random mix of SESAME and Tillotson materials with an adiabatic mantle and a power-law core:"
   ]
  },
  {
   "cell_type": "code",
   "execution_count": null,
   "metadata": {
    "scrolled": true
   },
   "outputs": [],
   "source": [
    "planet = woma.Planet(\n",
    "    A1_mat_layer    = [\"Til_iron\", \"SESAME_basalt\"],\n",
    "    A1_T_rho_type   = [\"power=0.5\", \"adiabatic\"],\n",
    "    P_s             = 1e5,\n",
    "    T_s             = 1000,\n",
    "    A1_M_layer      = [0.3 * M_earth, 0.7 * M_earth],\n",
    ")\n",
    "\n",
    "# Generate the profiles\n",
    "planet.gen_prof_L2_find_R1_R_given_M1_M2(R_max=2 * R_earth)\n",
    "\n",
    "# Plot the results\n",
    "plot_spherical_profiles(planet)"
   ]
  },
  {
   "cell_type": "markdown",
   "metadata": {},
   "source": [
    "### 1.3 Three-layer planets"
   ]
  },
  {
   "cell_type": "markdown",
   "metadata": {},
   "source": [
    "With 3 layers there are a huge number of possible inputs and unknowns, several but not all of which are available in WoMa. Some of these require repeated iterations over multiple variables, so can take several minutes.\n",
    "\n",
    "Further developments are ongoing, so if you have a particular choice of parameters that you'd like to set and/or determine then please let us know! You can of course do the iterations yourself, systematically varying an input to a WoMa function until you get the output you need.\n",
    "\n",
    "For example, let's create an ice giant by setting the total mass and the radii at the base and top of the atmosphere."
   ]
  },
  {
   "cell_type": "code",
   "execution_count": 8,
   "metadata": {},
   "outputs": [
    {
     "name": "stdout",
     "output_type": "stream",
     "text": [
      "Iteration 11/40. Tolerance reached 5.73e-04/0.001\n",
      "Tweaking M to avoid peaks at the center of the planet...\n",
      "Iteration 23/40. Tolerance reached 6.26e-08/1e-07\n",
      "Done!\n",
      "Planet \"None\": \n",
      "    M            = 8.6595e+25  kg  = 14.499  M_earth\n",
      "    R            = 2.5484e+07  m  = 4  R_earth\n",
      "    mat          = [\"HM80_rock\", \"HM80_ice\", \"HM80_HHe\"] \n",
      "    mat_id       = [202, 201, 200] \n",
      "    T_rho_type   = [\"power=0\", \"power=0.9\", \"adiabatic\"] \n",
      "    R_layer      = [1.2773, 2.9999, 4]  R_earth\n",
      "    M_layer      = [3.8214, 9.7706, 0.90725]  M_earth\n",
      "    M_frac_layer = [0.26356, 0.67387, 0.062573]  M_tot\n",
      "    idx_layer    = [3193, 7499, 9999] \n",
      "    P_s          = 1e+05  Pa\n",
      "    T_s          = 70  K\n",
      "    rho_s        = 0.34426  kg m^-3\n",
      "    P_2          = 1.2107e+10  Pa\n",
      "    T_2          = 2810.8  K\n",
      "    rho_2        = 930.58  kg m^-\n",
      "    P_1          = 5.1853e+11  Pa\n",
      "    T_1          = 9898.7  K\n",
      "    rho_1        = 8392.3  kg m^-3\n",
      "    P_0          = 1.6416e+12  Pa\n",
      "    T_0          = 9898.7  K\n",
      "    rho_0        = 12659  kg m^-3\n",
      "    I_MR2        = 0.18168  M_tot*R_tot^2\n"
     ]
    },
    {
     "data": {
      "image/png": "[encoded data removed]",
      "text/plain": [
       "<Figure size 576x576 with 4 Axes>"
      ]
     },
     "metadata": {
      "needs_background": "light"
     },
     "output_type": "display_data"
    }
   ],
   "source": [
    "planet = woma.Planet(\n",
    "    A1_mat_layer    = [\"HM80_rock\", \"HM80_ice\", \"HM80_HHe\"],\n",
    "    A1_T_rho_type   = [\"power=0\", \"power=0.9\", \"adiabatic\"],\n",
    "    P_s             = 1e5,\n",
    "    T_s             = 70,\n",
    "    M               = 14.5 * M_earth,\n",
    "    A1_R_layer      = [None, 3 * R_earth, 4 * R_earth],\n",
    ")\n",
    "\n",
    "# Generate the profiles\n",
    "planet.gen_prof_L3_find_R1_given_R_M_R2()\n",
    "\n",
    "# Plot the results\n",
    "plot_spherical_profiles(planet)"
   ]
  },
  {
   "cell_type": "code",
   "execution_count": 11,
   "metadata": {},
   "outputs": [
    {
     "name": "stdout",
     "output_type": "stream",
     "text": [
      "Iteration 9/40. Tolerance reached 8.81e-04/0.001\n",
      "Tweaking M to avoid peaks at the center of the planet...\n",
      "Iteration 23/40. Tolerance reached 6.25e-08/1e-07\n",
      "Done!\n",
      "Planet \"None\": \n",
      "    M            = 8.6768e+25  kg  = 14.528  M_earth\n",
      "    R            = 2.5484e+07  m  = 4  R_earth\n",
      "    mat          = [\"HM80_rock\", \"HM80_ice\", \"HM80_HHe\"] \n",
      "    mat_id       = [202, 201, 200] \n",
      "    T_rho_type   = [\"power=0\", \"power=0.9\", \"adiabatic\"] \n",
      "    R_layer      = [1.1997, 3.1031, 4]  R_earth\n",
      "    M_layer      = [3.0885, 10.683, 0.75687]  M_earth\n",
      "    M_frac_layer = [0.21259, 0.73532, 0.052097]  M_tot\n",
      "    idx_layer    = [2999, 7757, 9999] \n",
      "    P_s          = 1e+05  Pa\n",
      "    T_s          = 70  K\n",
      "    rho_s        = 0.34426  kg m^-3\n",
      "    P_2          = 9.386e+09  Pa\n",
      "    T_2          = 2619.6  K\n",
      "    rho_2        = 820.03  kg m^-\n",
      "    P_1          = 5.2097e+11  Pa\n",
      "    T_1          = 10315  K\n",
      "    rho_1        = 8385.7  kg m^-3\n",
      "    P_0          = 1.4461e+12  Pa\n",
      "    T_0          = 10315  K\n",
      "    rho_0        = 12122  kg m^-3\n",
      "    I_MR2        = 0.19344  M_tot*R_tot^2\n"
     ]
    },
    {
     "data": {
      "image/png": "[encoded data removed]",
      "text/plain": [
       "<Figure size 576x576 with 4 Axes>"
      ]
     },
     "metadata": {
      "needs_background": "light"
     },
     "output_type": "display_data"
    }
   ],
   "source": [
    "three_layer_planet = woma.Planet(\n",
    "    A1_mat_layer    = [\"HM80_rock\", \"HM80_ice\", \"HM80_HHe\"],\n",
    "    A1_T_rho_type   = [\"power=0\", \"power=0.9\", \"adiabatic\"],\n",
    "    P_s             = 1e5,\n",
    "    T_s             = 70,\n",
    "    M               = 14.5 * M_earth,\n",
    "    A1_R_layer      = [1.2 * R_earth, None, 4 * R_earth],\n",
    ")\n",
    "\n",
    "# Generate the profiles\n",
    "three_layer_planet.gen_prof_L3_find_R2_given_R_M_R1()\n",
    "\n",
    "# Plot the results\n",
    "plot_spherical_profiles(three_layer_planet)"
   ]
  },
  {
   "cell_type": "code",
   "execution_count": 13,
   "metadata": {},
   "outputs": [
    {
     "name": "stdout",
     "output_type": "stream",
     "text": [
      "Creating a planet with R1_min\n",
      "Iteration 9/40. Tolerance reached 5.86e-04/0.001\n"
     ]
    },
    {
     "ename": "Exception",
     "evalue": "Could not build a planet with R1_min.",
     "output_type": "error",
     "traceback": [
      "\u001b[0;31m---------------------------------------------------------------------------\u001b[0m",
      "\u001b[0;31mAssertionError\u001b[0m                            Traceback (most recent call last)",
      "\u001b[0;32m~/Documents/WoMa/woma/spherical_funcs/L3_spherical.py\u001b[0m in \u001b[0;36mL3_find_R1_R2\u001b[0;34m(num_prof, R, M, P_s, T_s, rho_s, I_MR2, mat_id_L1, T_rho_type_id_L1, T_rho_args_L1, mat_id_L2, T_rho_type_id_L2, T_rho_args_L2, mat_id_L3, T_rho_type_id_L3, T_rho_args_L3, R1_min, R1_max, num_attempt, num_attempt_2, tol, verbosity)\u001b[0m\n\u001b[1;32m   1287\u001b[0m             \u001b[0mtol\u001b[0m\u001b[0;34m=\u001b[0m\u001b[0mtol\u001b[0m\u001b[0;34m,\u001b[0m\u001b[0;34m\u001b[0m\u001b[0;34m\u001b[0m\u001b[0m\n\u001b[0;32m-> 1288\u001b[0;31m             \u001b[0mverbosity\u001b[0m\u001b[0;34m=\u001b[0m\u001b[0mverbosity\u001b[0m\u001b[0;34m,\u001b[0m\u001b[0;34m\u001b[0m\u001b[0;34m\u001b[0m\u001b[0m\n\u001b[0m\u001b[1;32m   1289\u001b[0m             )\n",
      "\u001b[0;32m~/Documents/WoMa/woma/spherical_funcs/L3_spherical.py\u001b[0m in \u001b[0;36mL3_find_R2\u001b[0;34m(num_prof, R, M, P_s, T_s, rho_s, R1, mat_id_L1, T_rho_type_id_L1, T_rho_args_L1, mat_id_L2, T_rho_type_id_L2, T_rho_args_L2, mat_id_L3, T_rho_type_id_L3, T_rho_args_L3, num_attempt, tol, verbosity)\u001b[0m\n\u001b[1;32m    730\u001b[0m     \u001b[0;32massert\u001b[0m \u001b[0mR2_max\u001b[0m\u001b[0;34m/\u001b[0m\u001b[0mR\u001b[0m \u001b[0;34m>\u001b[0m \u001b[0mR1\u001b[0m\u001b[0;34m/\u001b[0m\u001b[0mR\u001b[0m \u001b[0;34m+\u001b[0m \u001b[0;36m2\u001b[0m\u001b[0;34m*\u001b[0m\u001b[0mtol\u001b[0m\u001b[0;34m,\u001b[0m \u001b[0;34m\"Boundary not found, decrease R1 or increase M\"\u001b[0m\u001b[0;34m\u001b[0m\u001b[0;34m\u001b[0m\u001b[0m\n\u001b[0;32m--> 731\u001b[0;31m     \u001b[0;32massert\u001b[0m \u001b[0mR2_max\u001b[0m\u001b[0;34m/\u001b[0m\u001b[0mR\u001b[0m \u001b[0;34m<\u001b[0m \u001b[0mR\u001b[0m\u001b[0;34m/\u001b[0m\u001b[0mR\u001b[0m \u001b[0;34m-\u001b[0m \u001b[0;36m2\u001b[0m\u001b[0;34m*\u001b[0m\u001b[0mtol\u001b[0m\u001b[0;34m,\u001b[0m \u001b[0;34m\"Boundary not found, increase R1 or decrease M\"\u001b[0m\u001b[0;34m\u001b[0m\u001b[0;34m\u001b[0m\u001b[0m\n\u001b[0m\u001b[1;32m    732\u001b[0m \u001b[0;34m\u001b[0m\u001b[0m\n",
      "\u001b[0;31mAssertionError\u001b[0m: Boundary not found, increase R1 or decrease M",
      "\nDuring handling of the above exception, another exception occurred:\n",
      "\u001b[0;31mException\u001b[0m                                 Traceback (most recent call last)",
      "\u001b[0;32m<ipython-input-13-c6365a796bdf>\u001b[0m in \u001b[0;36m<module>\u001b[0;34m\u001b[0m\n\u001b[1;32m     10\u001b[0m \u001b[0;34m\u001b[0m\u001b[0m\n\u001b[1;32m     11\u001b[0m \u001b[0;31m# Generate the profiles\u001b[0m\u001b[0;34m\u001b[0m\u001b[0;34m\u001b[0m\u001b[0;34m\u001b[0m\u001b[0m\n\u001b[0;32m---> 12\u001b[0;31m \u001b[0mthree_layer_planet\u001b[0m\u001b[0;34m.\u001b[0m\u001b[0mgen_prof_L3_find_R1_R2_given_R_M_I\u001b[0m\u001b[0;34m(\u001b[0m\u001b[0mR1_min\u001b[0m \u001b[0;34m=\u001b[0m \u001b[0;36m1.2\u001b[0m\u001b[0;34m*\u001b[0m\u001b[0mR_earth\u001b[0m\u001b[0;34m,\u001b[0m \u001b[0mR1_max\u001b[0m\u001b[0;34m=\u001b[0m\u001b[0;36m1.8\u001b[0m\u001b[0;34m*\u001b[0m\u001b[0mR_earth\u001b[0m\u001b[0;34m)\u001b[0m\u001b[0;34m\u001b[0m\u001b[0;34m\u001b[0m\u001b[0m\n\u001b[0m",
      "\u001b[0;32m~/Documents/WoMa/woma/main.py\u001b[0m in \u001b[0;36mgen_prof_L3_find_R1_R2_given_R_M_I\u001b[0;34m(self, R1_min, R1_max, verbosity)\u001b[0m\n\u001b[1;32m   1334\u001b[0m             \u001b[0mself\u001b[0m\u001b[0;34m.\u001b[0m\u001b[0mnum_attempt_2\u001b[0m\u001b[0;34m,\u001b[0m\u001b[0;34m\u001b[0m\u001b[0;34m\u001b[0m\u001b[0m\n\u001b[1;32m   1335\u001b[0m             \u001b[0mself\u001b[0m\u001b[0;34m.\u001b[0m\u001b[0mtol\u001b[0m\u001b[0;34m,\u001b[0m\u001b[0;34m\u001b[0m\u001b[0;34m\u001b[0m\u001b[0m\n\u001b[0;32m-> 1336\u001b[0;31m             \u001b[0mverbosity\u001b[0m\u001b[0;34m=\u001b[0m\u001b[0mverbosity\u001b[0m\u001b[0;34m,\u001b[0m\u001b[0;34m\u001b[0m\u001b[0;34m\u001b[0m\u001b[0m\n\u001b[0m\u001b[1;32m   1337\u001b[0m         )\n\u001b[1;32m   1338\u001b[0m \u001b[0;34m\u001b[0m\u001b[0m\n",
      "\u001b[0;32m~/Documents/WoMa/woma/spherical_funcs/L3_spherical.py\u001b[0m in \u001b[0;36mL3_find_R1_R2\u001b[0;34m(num_prof, R, M, P_s, T_s, rho_s, I_MR2, mat_id_L1, T_rho_type_id_L1, T_rho_args_L1, mat_id_L2, T_rho_type_id_L2, T_rho_args_L2, mat_id_L3, T_rho_type_id_L3, T_rho_args_L3, R1_min, R1_max, num_attempt, num_attempt_2, tol, verbosity)\u001b[0m\n\u001b[1;32m   1291\u001b[0m     \u001b[0;32mexcept\u001b[0m\u001b[0;34m:\u001b[0m\u001b[0;34m\u001b[0m\u001b[0;34m\u001b[0m\u001b[0m\n\u001b[1;32m   1292\u001b[0m         raise Exception(\n\u001b[0;32m-> 1293\u001b[0;31m             \u001b[0;34m\"Could not build a planet with R1_min.\"\u001b[0m\u001b[0;34m\u001b[0m\u001b[0;34m\u001b[0m\u001b[0m\n\u001b[0m\u001b[1;32m   1294\u001b[0m         )\n\u001b[1;32m   1295\u001b[0m \u001b[0;34m\u001b[0m\u001b[0m\n",
      "\u001b[0;31mException\u001b[0m: Could not build a planet with R1_min."
     ]
    }
   ],
   "source": [
    "three_layer_planet = woma.Planet(\n",
    "    A1_mat_layer    = [\"HM80_rock\", \"HM80_ice\", \"HM80_HHe\"],\n",
    "    A1_T_rho_type   = [\"power=0\", \"power=0.9\", \"adiabatic\"],\n",
    "    P_s             = 1e5,\n",
    "    T_s             = 70,\n",
    "    M               = 14.5 * M_earth,\n",
    "    A1_R_layer      = [None, None, 4 * R_earth],\n",
    "    I_MR2           = 0.15,\n",
    ")\n",
    "\n",
    "# Generate the profiles\n",
    "three_layer_planet.gen_prof_L3_find_R1_R2_given_R_M_I(\n",
    "        R1_min=1.2*R_earth,\n",
    "        R1_max=1.8*R_earth,\n",
    "        )\n",
    "\n",
    "# Plot the results\n",
    "plot_spherical_profiles(three_layer_planet)"
   ]
  },
  {
   "cell_type": "markdown",
   "metadata": {},
   "source": [
    "Let's make one final Earth-like (ish) planet and add an atmosphere on top of the inner two layers, choosing their masses. The atmosphere's mass will depend primarily on the pressure at its base.\n",
    "\n",
    "In this case, the input \"surface\" `_s` parameters set the conditions at the base of the atmosphere, i.e. the surface of the inner two layers.\n",
    "\n",
    "We also need to set the minimum density at which our atmosphere will stop, since in this case the third layer profiles are integrated outwards."
   ]
  },
  {
   "cell_type": "code",
   "execution_count": null,
   "metadata": {},
   "outputs": [],
   "source": [
    "planet = woma.Planet(\n",
    "    A1_mat_layer    = [\"Til_iron\", \"Til_basalt\", \"SESAME_N2\"],\n",
    "    A1_T_rho_type   = [\"power=2\", \"power=2\", \"power=0\"],\n",
    "    A1_M_layer      = [0.3 * M_earth, 0.7 * M_earth, None],\n",
    "    P_s             = 1e8,\n",
    "    T_s             = 1000,\n",
    ")\n",
    "\n",
    "# Generate the profiles\n",
    "planet.gen_prof_L3_find_R1_R2_given_M1_M2_add_L3(rho_min=1, R_max=3 * R_earth)\n",
    "\n",
    "# Plot the results\n",
    "plot_spherical_profiles(planet)"
   ]
  },
  {
   "cell_type": "markdown",
   "metadata": {},
   "source": [
    "---"
   ]
  },
  {
   "cell_type": "markdown",
   "metadata": {},
   "source": [
    " <a id=\"2_spinning_profiles\"></a>"
   ]
  },
  {
   "cell_type": "markdown",
   "metadata": {},
   "source": [
    "[Back to Contents](#top)"
   ]
  },
  {
   "cell_type": "markdown",
   "metadata": {},
   "source": [
    "## 2. Spinning profiles"
   ]
  },
  {
   "cell_type": "markdown",
   "metadata": {},
   "source": [
    "As we did for the spherical profiles, let's first import WoMa, set some constants, and make a simple plotting function to display the planets we create.\n",
    "\n",
    "As described in [Ruiz-Bonilla et al. 2020](...), we can model a spinning body as a system of concentric spheroids of constant density. This means the full 3D density profile (and temperature etc.) can be described using just the 1D equatorial and polar profiles."
   ]
  },
  {
   "cell_type": "code",
   "execution_count": null,
   "metadata": {},
   "outputs": [],
   "source": [
    "import woma\n",
    "import matplotlib.pyplot as plt\n",
    "from matplotlib.colors import LogNorm\n",
    "import numpy as np\n",
    "\n",
    "R_earth = 6.371e6   # m\n",
    "M_earth = 5.972e24  # kg m^-3 \n",
    "\n",
    "def plot_spinning_profiles(p):    \n",
    "    fig, ax = plt.subplots(1, 2, figsize=(12,6))\n",
    "    \n",
    "    ax[0].plot(p.A1_r / R_earth, p.A1_rho, label=\"original spherical\")\n",
    "    ax[0].plot(p.A1_r_eq / R_earth, p.A1_rho_eq, label=\"equatorial\")\n",
    "    ax[0].plot(p.A1_r_po / R_earth, p.A1_rho_po, label=\"polar\")\n",
    "    ax[0].set_xlabel(r\"Radius, $r$ $[R_\\oplus]$\")\n",
    "    ax[0].set_ylabel(r\"Density, $\\rho$ [kg m$^{-3}$]\")\n",
    "    ax[0].set_yscale(\"log\")\n",
    "    ax[0].set_xlim(0, 1.2 * p.A1_r[-1] / R_earth)\n",
    "    ax[0].legend()\n",
    "    \n",
    "    A1_r_grid = np.linspace(0, np.max(p.A1_r_eq), 200)\n",
    "    A1_z_grid = np.linspace(0, np.max(p.A1_r_po), 200)\n",
    "    A2_rho_grid = np.zeros((A1_r_grid.shape[0], A1_z_grid.shape[0]))\n",
    "    for i in range(A2_rho_grid.shape[0]):\n",
    "        radius = A1_r_grid[i]\n",
    "        for j in range(A2_rho_grid.shape[1]):\n",
    "            z = A1_z_grid[j]\n",
    "            A2_rho_grid[i, j] = woma.rho_at_r_z(\n",
    "                radius, z, p.A1_r_eq, p.A1_rho_eq, p.A1_r_po, p.A1_rho_po\n",
    "            )\n",
    "    \n",
    "    X, Y = np.meshgrid(A1_r_grid / R_earth, A1_z_grid / R_earth)\n",
    "    Z = A2_rho_grid.T\n",
    "    Z[Z == 0] = np.nan\n",
    "    cmesh = ax[1].pcolormesh(X, Y, Z, norm=LogNorm())\n",
    "    cbar = plt.colorbar(cmesh)\n",
    "    cbar.ax.set_ylabel(r\"Density [kg m$^{-3}$]\")\n",
    "    ax[1].set_aspect(\"equal\")\n",
    "    ax[1].set_xlabel(r\"Equatorial Radius, $r_{xy}$ $[R_\\oplus]$\")\n",
    "    ax[1].set_ylabel(r\"Polar Radius, $z$ $[R_\\oplus]$\")\n",
    "    \n",
    "    plt.tight_layout()\n",
    "    plt.show()"
   ]
  },
  {
   "cell_type": "markdown",
   "metadata": {},
   "source": [
    "To construct a spheroidal planet in WoMa we start from a spherical profile. Let's remake one of the simple 2 layer examples from the previous section as our input."
   ]
  },
  {
   "cell_type": "code",
   "execution_count": null,
   "metadata": {},
   "outputs": [],
   "source": [
    "planet = woma.Planet(\n",
    "    A1_mat_layer    = [\"Til_iron\", \"Til_basalt\"],\n",
    "    A1_T_rho_type   = [\"power=2\", \"power=2\"],\n",
    "    P_s             = 1e5,\n",
    "    T_s             = 1000,\n",
    "    M               = M_earth,\n",
    "    A1_R_layer      = [None, R_earth],\n",
    ")\n",
    "\n",
    "# Generate the profiles\n",
    "planet.gen_prof_L2_find_R1_given_R_M(verbosity=0)"
   ]
  },
  {
   "cell_type": "markdown",
   "metadata": {},
   "source": [
    "We now use the `SpinPlanet` class and pass it the spherical planet with the period we want. Note the period is set in units of hours.\n",
    "\n",
    "Let's try a very rapid rotation for our Earth-like planet of 5 hours.\n",
    "\n",
    "By default, the resulting total mass of our spinning planet is fixed to be the same as the input spherical planet. This does require some extra iteration over the faster base method, so if you don't need to keep the total mass precisely constant then set `fix_mass=False`."
   ]
  },
  {
   "cell_type": "code",
   "execution_count": null,
   "metadata": {},
   "outputs": [],
   "source": [
    "spin_planet = woma.SpinPlanet(\n",
    "    planet = planet,\n",
    "    period = 5, # h\n",
    ")"
   ]
  },
  {
   "cell_type": "markdown",
   "metadata": {},
   "source": [
    "Let's plot the resulting profiles:"
   ]
  },
  {
   "cell_type": "code",
   "execution_count": null,
   "metadata": {},
   "outputs": [],
   "source": [
    "plot_spinning_profiles(spin_planet)"
   ]
  },
  {
   "cell_type": "markdown",
   "metadata": {},
   "source": [
    "WoMa can also calculate the minimum possible period for the planet, i.e. the fastest it can spin before flying apart.\n",
    "\n",
    ". . .\n",
    "\n",
    "Let's compute the spinning planetary profile of the planet with its minimum period:"
   ]
  },
  {
   "cell_type": "code",
   "execution_count": null,
   "metadata": {},
   "outputs": [],
   "source": [
    "spin_planet = woma.SpinPlanet(\n",
    "    planet  = planet,\n",
    "    period  = 0.001  # h\n",
    ")\n",
    "\n",
    "plot_spin_profile(spin_planet)"
   ]
  },
  {
   "cell_type": "markdown",
   "metadata": {},
   "source": [
    "---"
   ]
  },
  {
   "cell_type": "markdown",
   "metadata": {},
   "source": [
    " <a id=\"3_particles\"></a>"
   ]
  },
  {
   "cell_type": "markdown",
   "metadata": {},
   "source": [
    "[Back to Contents](#top)"
   ]
  },
  {
   "cell_type": "markdown",
   "metadata": {},
   "source": [
    "## 3. Particle placement (e.g. for SPH) "
   ]
  },
  {
   "cell_type": "markdown",
   "metadata": {},
   "source": [
    "Creating particle representations with WoMa is done in the same way for spinning and spherical planets.\n",
    "\n",
    "For spherical profiles, we use the fast SEA algorithm ([Kegerreis et al. 2019](https://doi.org/10.1093/mnras/stz1606)) to place particles to precisely match the profile densities. \n",
    "\n",
    "For spinning profiles, we use a modified version of SEA as described in [Ruiz-Bonilla et al. 2020](...).\n",
    "\n",
    "The particles' other properties (e.g. temperature, material type) all match the input profiles too, with ~equal mass for all particles. The concentric shells of particles also align automatically with any material and surface boundaries in the profiles.\n",
    "\n",
    "Further documentation and examples for the [SEAGen](https://pypi.org/project/seagen/) python package are available at [github.com/jkeger/seagen](https://github.com/jkeger/seagen).\n",
    "\n",
    "Try `verbosity=1` or `2` for more information as well."
   ]
  },
  {
   "cell_type": "code",
   "execution_count": null,
   "metadata": {},
   "outputs": [],
   "source": [
    "import woma\n",
    "\n",
    "R_earth = 6.371e6   # m\n",
    "M_earth = 5.972e24  # kg m^-3 "
   ]
  },
  {
   "cell_type": "markdown",
   "metadata": {},
   "source": [
    "Let's start with a simple 2 layer spherical planet like we did above, then create two versions with sets of $10^5$ and $10^7$ particles:"
   ]
  },
  {
   "cell_type": "code",
   "execution_count": null,
   "metadata": {},
   "outputs": [],
   "source": [
    "planet = woma.Planet(\n",
    "    A1_mat_layer    = [\"Til_iron\", \"Til_basalt\"],\n",
    "    A1_T_rho_type   = [\"power=2\", \"power=2\"],\n",
    "    P_s             = 1e5,\n",
    "    T_s             = 1000,\n",
    "    M               = M_earth,\n",
    "    R               = R_earth,\n",
    ")\n",
    "\n",
    "# Generate the profiles\n",
    "planet.gen_prof_L2_find_R1_given_R_M()"
   ]
  },
  {
   "cell_type": "code",
   "execution_count": null,
   "metadata": {},
   "outputs": [],
   "source": [
    "# Create the sets of particles\n",
    "particles_low_res = woma.ParticlePlanet(planet, 1e5, verbosity=0)\n",
    "\n",
    "particles_high_res = woma.ParticlePlanet(planet, 1e7, verbosity=0)"
   ]
  },
  {
   "cell_type": "markdown",
   "metadata": {},
   "source": [
    "We can now print, save, or do whatever we like with the particle data. \n",
    "\n",
    "See the `ParticlePlanet` class docstring in `woma/main.py` for the full output documentation.\n",
    "\n",
    "For example, let's just print the position, mass, density, and temperature of the 123$^{\\rm rd}$ particle:"
   ]
  },
  {
   "cell_type": "code",
   "execution_count": null,
   "metadata": {},
   "outputs": [],
   "source": [
    "print(particles_high_res.A2_pos[123] / R_earth, \"R_earth\")\n",
    "print(particles_high_res.A1_m[123] / M_earth, \"M_earth\")\n",
    "print(particles_high_res.A1_rho[123], \"kg m^-3\")\n",
    "print(particles_high_res.A1_T[123], \"K\")"
   ]
  },
  {
   "cell_type": "markdown",
   "metadata": {},
   "source": [
    "Note that the resulting number of particles may be slightly different from our input value. \n",
    "\n",
    "This is a consequence of needing to place integer numbers of particles in each shell, combined with the particle-mass tweaking required to align the particle shells with the profile boundaries."
   ]
  },
  {
   "cell_type": "code",
   "execution_count": null,
   "metadata": {},
   "outputs": [],
   "source": [
    "print(particles_low_res.N_particles)\n",
    "print(particles_high_res.N_particles)"
   ]
  },
  {
   "cell_type": "markdown",
   "metadata": {},
   "source": [
    "For a smoothed particle hydrodynamics (SPH) simulation, we can also input the number of neighbours for a quick and crude estimate of each particle's smoothing length from its density."
   ]
  },
  {
   "cell_type": "code",
   "execution_count": null,
   "metadata": {},
   "outputs": [],
   "source": [
    "particles_low_res = woma.ParticlePlanet(planet, 1e5, N_ngb=48, verbosity=0)\n",
    "\n",
    "print(particles_low_res.A1_h[123] / R_earth, \"R_earth\")"
   ]
  },
  {
   "cell_type": "markdown",
   "metadata": {},
   "source": [
    "Everything works the same for a spinning planet.\n",
    "\n",
    "Let's give our example planet a pretty rapid rotation period, then place particles as before."
   ]
  },
  {
   "cell_type": "code",
   "execution_count": null,
   "metadata": {},
   "outputs": [],
   "source": [
    "spin_planet = woma.SpinPlanet(\n",
    "    planet  = planet,\n",
    "    period  = 6,  # h\n",
    ")"
   ]
  },
  {
   "cell_type": "code",
   "execution_count": null,
   "metadata": {},
   "outputs": [],
   "source": [
    "particles = woma.ParticlePlanet(spin_planet, 1e6, N_ngb=48, verbosity=0)\n",
    "\n",
    "print(particles_high_res.A2_pos[123] / R_earth, \"R_earth\")"
   ]
  },
  {
   "cell_type": "markdown",
   "metadata": {},
   "source": [
    "#### Quick notes\n",
    "While the particles placed by WoMa and SEAGen should be very close to equilibrium and ready for use in a simulation, it is recommended that you run a short \"relaxation\" simulation to allow any final settling to take place.\n",
    "\n",
    "In the case of standard SPH, particles at the density discontinuities of the outer surface and any interior boundaries will have incorrect smoothed densities and pressures. This can put the planet out of equilibrium even if the particles match the profiles perfectly.\n",
    "\n",
    "If you want to run SPH or other particle-based simulations then check out the open-source SWIFT code at [www.swiftsim.com](http://www.swiftsim.com)! The example planetary giant impact simulations use initial conditions generated using WoMa as shown in this notebook."
   ]
  },
  {
   "cell_type": "markdown",
   "metadata": {},
   "source": [
    "---"
   ]
  },
  {
   "cell_type": "markdown",
   "metadata": {},
   "source": [
    "[Back to Contents](#top)"
   ]
  }
 ],
 "metadata": {
  "kernelspec": {
   "display_name": "Python 3",
   "language": "python",
   "name": "python3"
  },
  "language_info": {
   "codemirror_mode": {
    "name": "ipython",
    "version": 3
   },
   "file_extension": ".py",
   "mimetype": "text/x-python",
   "name": "python",
   "nbconvert_exporter": "python",
   "pygments_lexer": "ipython3",
   "version": "3.7.3"
  }
 },
 "nbformat": 4,
 "nbformat_minor": 2
}
