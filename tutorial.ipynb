{
 "cells": [
  {
   "cell_type": "markdown",
   "metadata": {},
   "source": [
    "# Welcome to WoMa"
   ]
  },
  {
   "cell_type": "markdown",
   "metadata": {},
   "source": [
    "This notebook aims to cover the basic usage of WoMa. Let's get started!\n",
    "\n",
    "Also see the `README.md` for more documentation."
   ]
  },
  {
   "cell_type": "markdown",
   "metadata": {},
   "source": [
    "## Contents:\n",
    "1. Spherical planetary profiles      \n",
    "2. Particle placement for spherical profiles\n",
    "3. Spinning planetary profiles  \n",
    "4. Particle placement for spinning profiles  "
   ]
  },
  {
   "cell_type": "markdown",
   "metadata": {},
   "source": [
    " ## 1. Spherical planetary profiles"
   ]
  },
  {
   "cell_type": "markdown",
   "metadata": {},
   "source": [
    "First let's import WoMa, set some constants, and make a simple plotting function to display the planets we create:"
   ]
  },
  {
   "cell_type": "code",
   "execution_count": 14,
   "metadata": {},
   "outputs": [],
   "source": [
    "import woma\n",
    "import matplotlib.pyplot as plt\n",
    "\n",
    "R_earth = 6.371e6   # m\n",
    "M_earth = 5.972e24  # kg m^-3 \n",
    "\n",
    "def plot_spherical_profiles(planet):    \n",
    "    fig, ax = plt.subplots(2, 2, figsize=(8,8))\n",
    "    \n",
    "    ax[0, 0].plot(planet.A1_r / R_earth, planet.A1_rho)\n",
    "    ax[0, 0].set_xlabel(r\"Radius, $r$ $[R_\\oplus]$\")\n",
    "    ax[0, 0].set_ylabel(r\"Density, $\\rho$ [kg m$^{-3}$]\")\n",
    "    ax[0, 0].set_yscale(\"log\")\n",
    "    ax[0, 0].set_xlim(0, None)\n",
    "    \n",
    "    ax[1, 0].plot(planet.A1_r / R_earth, planet.A1_m_enc / M_earth)\n",
    "    ax[1, 0].set_xlabel(r\"Radius, $r$ $[R_\\oplus]$\")\n",
    "    ax[1, 0].set_ylabel(r\"Enclosed Mass, $M_{<r}$ $[M_\\oplus]$\")\n",
    "    ax[1, 0].set_xlim(0, None)\n",
    "    ax[1, 0].set_ylim(0, None)\n",
    "    \n",
    "    ax[0, 1].plot(planet.A1_r / R_earth, planet.A1_P / 1e9)\n",
    "    ax[0, 1].set_xlabel(r\"Radius, $r$ $[R_\\oplus]$\")\n",
    "    ax[0, 1].set_ylabel(r\"Pressure, $P$ [Pa]\")\n",
    "    ax[0, 1].set_yscale(\"log\")\n",
    "    ax[0, 1].set_xlim(0, None)\n",
    "    \n",
    "    ax[1, 1].plot(planet.A1_r / R_earth, planet.A1_T)\n",
    "    ax[1, 1].set_xlabel(r\"Radius, $r$ $[R_\\oplus]$\")\n",
    "    ax[1, 1].set_ylabel(r\"Temperature, $T$ [K]\")\n",
    "    ax[1, 1].set_xlim(0, None)\n",
    "    ax[1, 1].set_ylim(0, None)\n",
    "    \n",
    "    plt.tight_layout()\n",
    "    plt.show()"
   ]
  },
  {
   "cell_type": "markdown",
   "metadata": {},
   "source": [
    "### 1.1 One-layer planets"
   ]
  },
  {
   "cell_type": "markdown",
   "metadata": {},
   "source": [
    "Let's start by building a simple, spherical, 1 layer planet.\n",
    "\n",
    "WoMa provides many options for which inputs you provide and which are calculated. We'll cover other options later, or see `README.md` for the full documentation.\n",
    "\n",
    "For any planet we want to build, we first need to specify:\n",
    "- The equation of state (EoS) for every material: e.g. Tillotson basalt. \n",
    "- A temperature--density relation for every material: e.g. a power-law $T\\propto\\rho^\\alpha$ with e.g. $\\alpha=2$ (or $\\alpha=0$ for isothermal).\n",
    "- Two of the following three values at the surface of the planet: pressure $P_{\\rm s}$, temperature $T_{\\rm s}$, and density $\\rho_{\\rm s}$. e.g. $P_{\\rm s}=10^5\\, \\rm Pa$ and $T_{\\rm s}=1000\\, \\rm K$.\n",
    "\n",
    "(Note that arrays in WoMa are explicitly labelled with a prefix `A1_`, or `An_` for an `n`-dimensional array.)"
   ]
  },
  {
   "cell_type": "code",
   "execution_count": null,
   "metadata": {},
   "outputs": [],
   "source": [
    "one_layer_planet = woma.Planet(\n",
    "    name            = \"my_first_planet\",\n",
    "    A1_mat_layer    = [\"Til_basalt\"],\n",
    "    A1_T_rho_type   = [\"power=2\"],\n",
    "    P_s             = 1e5,\n",
    "    T_s             = 500,\n",
    ")"
   ]
  },
  {
   "cell_type": "markdown",
   "metadata": {},
   "source": [
    "For spherical 1 layer planets we can specify either the total radius `R` or the total mass `M` of the planet, then WoMa will find the value for other such that we get a valid planet in hydrostatic equilibrium.\n",
    "\n",
    "Let's set our planet's radius to $1~R_\\oplus$. WoMa also needs a rough value for the maximum mass `M_max`, let's say a generous $2~M_\\oplus$. \n",
    "\n",
    "(We could have set these along with the other parameters in the previous cell.)"
   ]
  },
  {
   "cell_type": "code",
   "execution_count": null,
   "metadata": {},
   "outputs": [],
   "source": [
    "one_layer_planet.R = R_earth\n",
    "one_layer_planet.M_max = 2 * M_earth"
   ]
  },
  {
   "cell_type": "markdown",
   "metadata": {},
   "source": [
    "We now select the appropiate method and the planet profiles get made.\n",
    "\n",
    "In this case, we are generating (`gen_prof`) a one layer planet (`L1`) and need to find the mass (`find_M`) for our chosen radius (`given_R`):"
   ]
  },
  {
   "cell_type": "code",
   "execution_count": null,
   "metadata": {},
   "outputs": [],
   "source": [
    "one_layer_planet.gen_prof_L1_find_M_given_R()"
   ]
  },
  {
   "cell_type": "markdown",
   "metadata": {},
   "source": [
    "We see from the printed output that the mass of our planet is about $\\tfrac{2}{3}~M_\\oplus$, along with other information.\n",
    "\n",
    "Let's plot the resulting profiles:"
   ]
  },
  {
   "cell_type": "code",
   "execution_count": null,
   "metadata": {},
   "outputs": [],
   "source": [
    "plot_spherical_profiles(one_layer_planet)"
   ]
  },
  {
   "cell_type": "markdown",
   "metadata": {},
   "source": [
    "As mentioned above, we could instead set the total mass `M` to derive the radius. \n",
    "\n",
    "Let's also try an isothermal temperature relation."
   ]
  },
  {
   "cell_type": "code",
   "execution_count": null,
   "metadata": {
    "scrolled": true
   },
   "outputs": [],
   "source": [
    "one_layer_planet = woma.Planet(\n",
    "    name            = \"my_second_planet\",\n",
    "    A1_mat_layer    = [\"Til_basalt\"],\n",
    "    A1_T_rho_type   = [\"power=0\"],\n",
    "    P_s             = 1e5,\n",
    "    T_s             = 500,\n",
    "    M               = M_earth,\n",
    "    R_max           = 2 * R_earth,\n",
    ")\n",
    "\n",
    "# Generate the profiles\n",
    "one_layer_planet.gen_prof_L1_find_R_given_M()\n",
    "\n",
    "# Plot the results\n",
    "plot_spherical_profiles(one_layer_planet)"
   ]
  },
  {
   "cell_type": "markdown",
   "metadata": {},
   "source": [
    "### 1.2 Two-layer planets"
   ]
  },
  {
   "cell_type": "markdown",
   "metadata": {},
   "source": [
    "Let's move on to make some 2 layer planets. \n",
    "\n",
    "We'll also try some more realistic ANEOS equations of state for an Earth-like core and mantle, with adiabatic temperature--density relations:"
   ]
  },
  {
   "cell_type": "code",
   "execution_count": null,
   "metadata": {},
   "outputs": [],
   "source": [
    "two_layer_planet = woma.Planet(\n",
    "    name            = \"hello_earth\",\n",
    "    A1_mat_layer    = [\"ANEOS_Fe85Si15\", \"ANEOS_forsterite\"],\n",
    "    A1_T_rho_type   = [\"adiabatic\", \"adiabatic\"],\n",
    "    P_s             = 1e5,\n",
    "    T_s             = 1000,\n",
    ")"
   ]
  },
  {
   "cell_type": "markdown",
   "metadata": {},
   "source": [
    "For 2 layer planets we have many more options for which properties of our planet we choose and which unknowns are derived. \n",
    "\n",
    "For example, we can set the mass of each layer, `A1_M_layer`, and get WoMa to find the radii of the boundary and the outer edge, `A1_R_layer`. As before, we also need to give a maximum possible radius."
   ]
  },
  {
   "cell_type": "code",
   "execution_count": null,
   "metadata": {},
   "outputs": [],
   "source": [
    "two_layer_planet.A1_M_layer = [0.3 * M_earth, 0.7 * M_earth]\n",
    "two_layer_planet.R_max = 2 * R_earth\n",
    "\n",
    "# Generate the profiles\n",
    "two_layer_planet.gen_prof_L2_find_R1_R_given_M1_M2()\n",
    "\n",
    "# Plot the results\n",
    "plot_spherical_profiles(two_layer_planet)"
   ]
  },
  {
   "cell_type": "markdown",
   "metadata": {},
   "source": [
    "Or, we could set the total mass `M` and the radius `R`, and get WoMa to find the boundary radius. \n",
    "\n",
    "Let's try a weird mix of SESAME and Tillotson materials with an adiabatic mantle and a power-law core:"
   ]
  },
  {
   "cell_type": "code",
   "execution_count": null,
   "metadata": {
    "scrolled": true
   },
   "outputs": [],
   "source": [
    "two_layer_planet = woma.Planet(\n",
    "    A1_mat_layer    = [\"Til_iron\", \"SESAME_basalt\"],\n",
    "    A1_T_rho_type   = [\"power=0.5\", \"adiabatic\"],\n",
    "    P_s             = 1e5,\n",
    "    T_s             = 1000,\n",
    "    M               = M_earth,\n",
    "    A1_R_layer      = [None, R_earth],\n",
    ")\n",
    "\n",
    "# Generate the profiles\n",
    "two_layer_planet.gen_prof_L2_find_R1_given_R_M()\n",
    "\n",
    "# Plot the results\n",
    "plot_spherical_profiles(two_layer_planet)"
   ]
  },
  {
   "cell_type": "markdown",
   "metadata": {},
   "source": [
    "### 1.3 Three-layer planets"
   ]
  },
  {
   "cell_type": "markdown",
   "metadata": {},
   "source": [
    "With 3 layers there are a huge number of possible inputs and unknowns, several but not all of which are available in WoMa. Some of these require repeated iterations over multiple variables, so can take several minutes.\n",
    "\n",
    "Further developments are ongoing, so if you have a particular choice of parameters that you'd like to set and/or determine then please let us know! \n",
    "\n",
    "For example, let's create an ice giant by setting the total mass, total radius, and the moment of intertia factor. ###not working"
   ]
  },
  {
   "cell_type": "code",
   "execution_count": 10,
   "metadata": {},
   "outputs": [
    {
     "name": "stderr",
     "output_type": "stream",
     "text": [
      "Finding R1 given R, M: 100%|██████████| 40/40 [00:15<00:00,  2.52it/s]\n",
      "Finding R1 given R, M: 100%|██████████| 40/40 [00:33<00:00,  1.21it/s]\n",
      "Finding R1, R2 given R, M, I_MR2:   0%|          | 0/5 [00:00<?, ?it/s]\n"
     ]
    },
    {
     "ename": "Exception",
     "evalue": "A planet made of layer 1 and layer 2 materials excess mass.\nTry decreasing the mass, decreasing R1 or increasing R.\n",
     "output_type": "error",
     "traceback": [
      "\u001b[0;31m---------------------------------------------------------------------------\u001b[0m",
      "\u001b[0;31mException\u001b[0m                                 Traceback (most recent call last)",
      "\u001b[0;32m<ipython-input-10-7016bef94f71>\u001b[0m in \u001b[0;36m<module>\u001b[0;34m\u001b[0m\n\u001b[1;32m     12\u001b[0m \u001b[0;34m\u001b[0m\u001b[0m\n\u001b[1;32m     13\u001b[0m \u001b[0;31m# Generate the profiles\u001b[0m\u001b[0;34m\u001b[0m\u001b[0;34m\u001b[0m\u001b[0;34m\u001b[0m\u001b[0m\n\u001b[0;32m---> 14\u001b[0;31m \u001b[0mthree_layer_planet\u001b[0m\u001b[0;34m.\u001b[0m\u001b[0mgen_prof_L3_find_R1_R2_given_R_M_I\u001b[0m\u001b[0;34m(\u001b[0m\u001b[0;34m)\u001b[0m\u001b[0;34m\u001b[0m\u001b[0;34m\u001b[0m\u001b[0m\n\u001b[0m\u001b[1;32m     15\u001b[0m \u001b[0;34m\u001b[0m\u001b[0m\n\u001b[1;32m     16\u001b[0m \u001b[0;31m# Plot the results\u001b[0m\u001b[0;34m\u001b[0m\u001b[0;34m\u001b[0m\u001b[0;34m\u001b[0m\u001b[0m\n",
      "\u001b[0;32m/mnt/c/Dropbox/gihr/woma/woma/main.py\u001b[0m in \u001b[0;36mgen_prof_L3_find_R1_R2_given_R_M_I\u001b[0;34m(self)\u001b[0m\n\u001b[1;32m   1273\u001b[0m             \u001b[0mself\u001b[0m\u001b[0;34m.\u001b[0m\u001b[0mA1_T_rho_args\u001b[0m\u001b[0;34m[\u001b[0m\u001b[0;36m2\u001b[0m\u001b[0;34m]\u001b[0m\u001b[0;34m,\u001b[0m\u001b[0;34m\u001b[0m\u001b[0;34m\u001b[0m\u001b[0m\n\u001b[1;32m   1274\u001b[0m             \u001b[0mself\u001b[0m\u001b[0;34m.\u001b[0m\u001b[0mnum_attempt\u001b[0m\u001b[0;34m,\u001b[0m\u001b[0;34m\u001b[0m\u001b[0;34m\u001b[0m\u001b[0m\n\u001b[0;32m-> 1275\u001b[0;31m             \u001b[0mself\u001b[0m\u001b[0;34m.\u001b[0m\u001b[0mnum_attempt_2\u001b[0m\u001b[0;34m,\u001b[0m\u001b[0;34m\u001b[0m\u001b[0;34m\u001b[0m\u001b[0m\n\u001b[0m\u001b[1;32m   1276\u001b[0m         )\n\u001b[1;32m   1277\u001b[0m \u001b[0;34m\u001b[0m\u001b[0m\n",
      "\u001b[0;32m/mnt/c/Dropbox/gihr/woma/woma/spherical_funcs/L3_spherical.py\u001b[0m in \u001b[0;36mL3_find_R1_R2\u001b[0;34m(num_prof, R, M, P_s, T_s, rho_s, I_MR2, mat_id_L1, T_rho_type_id_L1, T_rho_args_L1, mat_id_L2, T_rho_type_id_L2, T_rho_args_L2, mat_id_L3, T_rho_type_id_L3, T_rho_args_L3, num_attempt, num_attempt_2, verbose)\u001b[0m\n\u001b[1;32m   1020\u001b[0m                 \u001b[0mT_rho_args_L3\u001b[0m\u001b[0;34m,\u001b[0m\u001b[0;34m\u001b[0m\u001b[0;34m\u001b[0m\u001b[0m\n\u001b[1;32m   1021\u001b[0m                 \u001b[0mnum_attempt_2\u001b[0m\u001b[0;34m,\u001b[0m\u001b[0;34m\u001b[0m\u001b[0;34m\u001b[0m\u001b[0m\n\u001b[0;32m-> 1022\u001b[0;31m                 \u001b[0mverbose\u001b[0m\u001b[0;34m=\u001b[0m\u001b[0;36m0\u001b[0m\u001b[0;34m,\u001b[0m\u001b[0;34m\u001b[0m\u001b[0;34m\u001b[0m\u001b[0m\n\u001b[0m\u001b[1;32m   1023\u001b[0m             )\n\u001b[1;32m   1024\u001b[0m \u001b[0;34m\u001b[0m\u001b[0m\n",
      "\u001b[0;32m/mnt/c/Dropbox/gihr/woma/woma/spherical_funcs/L3_spherical.py\u001b[0m in \u001b[0;36mL3_find_R2\u001b[0;34m(num_prof, R, M, P_s, T_s, rho_s, R1, mat_id_L1, T_rho_type_id_L1, T_rho_args_L1, mat_id_L2, T_rho_type_id_L2, T_rho_args_L2, mat_id_L3, T_rho_type_id_L3, T_rho_args_L3, num_attempt, verbose)\u001b[0m\n\u001b[1;32m    617\u001b[0m             \u001b[0;34m+\u001b[0m \u001b[0;34m\"Try decreasing the mass, decreasing R1 or increasing R.\\n\"\u001b[0m\u001b[0;34m\u001b[0m\u001b[0;34m\u001b[0m\u001b[0m\n\u001b[1;32m    618\u001b[0m         )\n\u001b[0;32m--> 619\u001b[0;31m         \u001b[0;32mraise\u001b[0m \u001b[0mException\u001b[0m\u001b[0;34m(\u001b[0m\u001b[0me\u001b[0m\u001b[0;34m)\u001b[0m\u001b[0;34m\u001b[0m\u001b[0;34m\u001b[0m\u001b[0m\n\u001b[0m\u001b[1;32m    620\u001b[0m \u001b[0;34m\u001b[0m\u001b[0m\n\u001b[1;32m    621\u001b[0m     \u001b[0mrho_s_L2\u001b[0m \u001b[0;34m=\u001b[0m \u001b[0meos\u001b[0m\u001b[0;34m.\u001b[0m\u001b[0mrho_P_T\u001b[0m\u001b[0;34m(\u001b[0m\u001b[0mP_s\u001b[0m\u001b[0;34m,\u001b[0m \u001b[0mT_s\u001b[0m\u001b[0;34m,\u001b[0m \u001b[0mmat_id_L2\u001b[0m\u001b[0;34m)\u001b[0m\u001b[0;34m\u001b[0m\u001b[0;34m\u001b[0m\u001b[0m\n",
      "\u001b[0;31mException\u001b[0m: A planet made of layer 1 and layer 2 materials excess mass.\nTry decreasing the mass, decreasing R1 or increasing R.\n"
     ]
    }
   ],
   "source": [
    "three_layer_planet = woma.Planet(\n",
    "    A1_mat_layer    = [\"HM80_rock\", \"HM80_ice\", \"HM80_HHe\"],\n",
    "    A1_T_rho_type   = [\"power=0\", \"power=0.9\", \"adiabatic\"],\n",
    "    P_s             = 1e3,\n",
    "    T_s             = 100,\n",
    "    M               = 17 * M_earth,\n",
    "    A1_R_layer      = [None, None, 4 * R_earth],\n",
    "    I_MR2           = 0.2,\n",
    "    num_attempt     = 5, ###\n",
    "    num_attempt_2   = 5, ###\n",
    ")\n",
    "\n",
    "# Generate the profiles\n",
    "three_layer_planet.gen_prof_L3_find_R1_R2_given_R_M_I()\n",
    "\n",
    "# Plot the results\n",
    "plot_spherical_profiles(three_layer_planet)"
   ]
  },
  {
   "cell_type": "markdown",
   "metadata": {},
   "source": [
    "Let's make one final Earth-like (ish) planet and add an atmosphere on top of the inner two layers, choosing their masses. The atmosphere's mass will depend primarily on the pressure at its base.\n",
    "\n",
    "In this case, the input \"surface\" parameters set the conditions at the base of the atmosphere. ### to be changed? ###\n",
    "\n",
    "We also need to set the minimum density at which our atmosphere will stop, since in this case the third layer profiles are integrated outwards."
   ]
  },
  {
   "cell_type": "code",
   "execution_count": 13,
   "metadata": {},
   "outputs": [
    {
     "name": "stderr",
     "output_type": "stream",
     "text": [
      "Finding R1 and R given M1, M2: 100%|██████████| 5/5 [02:18<00:00, 27.79s/it]\n"
     ]
    },
    {
     "name": "stdout",
     "output_type": "stream",
     "text": [
      "Tweaking M to avoid peaks at the center of the planet...\n",
      "Adding the third layer on top...\n",
      "Planet \"None\": \n",
      "    M            = 5.9779e+24  kg  = 1.0009  M_earth\n",
      "    R            = 6.7922e+06  m  = 1.0661  R_earth\n",
      "    mat          = [\"ANEOS_Fe85Si15\", \"ANEOS_forsterite\", \"SESAME_N2\"] \n",
      "    mat_id       = [402, 400, 305] \n",
      "    T_rho_type   = [\"adiabatic\", \"adiabatic\", \"power=0\"] \n",
      "    R_layer      = [0.50342, 1.0343, 1.0661]  R_earth\n",
      "    M_layer      = [0.26437, 0.73554, 0.0010149]  M_earth\n",
      "    M_frac_layer = [0.26412, 0.73486, 0.0010139]  M_tot\n",
      "    idx_layer    = [4867, 9999, 10307] \n",
      "    P_s          = 3.0008e+05  Pa\n",
      "    T_s          = 1000  K\n",
      "    rho_s        = 1.011  kg m^-3\n",
      "    P_2          = 1e+08  Pa\n",
      "    T_2          = 1000  K\n",
      "    rho_2        = 3167.4  kg m^-\n",
      "    P_1          = 1.3892e+11  Pa\n",
      "    T_1          = 1409.5  K\n",
      "    rho_1        = 10536  kg m^-3\n",
      "    P_0          = 3.409e+11  Pa\n",
      "    T_0          = 1803.6  K\n",
      "    rho_0        = 12647  kg m^-3\n",
      "    I_MR2        = 0.31326  M_tot*R_tot^2\n",
      "Done!\n"
     ]
    },
    {
     "data": {
      "image/png": "[encoded data removed]",
      "text/plain": [
       "<Figure size 576x576 with 4 Axes>"
      ]
     },
     "metadata": {
      "needs_background": "light"
     },
     "output_type": "display_data"
    }
   ],
   "source": [
    "three_layer_planet = woma.Planet(\n",
    "    A1_mat_layer    = [\"ANEOS_Fe85Si15\", \"ANEOS_forsterite\", \"SESAME_N2\"],\n",
    "    A1_T_rho_type   = [\"adiabatic\", \"adiabatic\", \"power=0\"],\n",
    "    A1_M_layer      = [0.3 * M_earth, 0.7 * M_earth, None],\n",
    "    P_s             = 1e8,\n",
    "    T_s             = 1000,\n",
    "    rho_min         = 1,\n",
    "    R_max           = 3 * R_earth,\n",
    "    num_attempt     = 5, ###\n",
    ")\n",
    "\n",
    "# Generate the profiles\n",
    "three_layer_planet.gen_prof_L3_find_R1_R2_given_M1_M2_add_L3()\n",
    "\n",
    "# Plot the results\n",
    "plot_spherical_profiles(three_layer_planet)"
   ]
  },
  {
   "cell_type": "markdown",
   "metadata": {},
   "source": [
    "## 2. Particle placement (e.g. for SPH) for spherical profiles"
   ]
  },
  {
   "cell_type": "markdown",
   "metadata": {},
   "source": [
    "We use the SEA algorithm ([Kegerreis et al. 2019](https://doi.org/10.1093/mnras/stz1606)) to place particles to precisely match the spherical profile densities.\n",
    "\n",
    "Let's use one of the 2 layer planets we made above as an example:"
   ]
  },
  {
   "cell_type": "code",
   "execution_count": null,
   "metadata": {},
   "outputs": [],
   "source": [
    "import woma\n",
    "import seagen\n",
    "\n",
    "R_earth = 6371000\n",
    "M_earth = 5.972E24\n",
    "\n",
    "l2_test = woma.Planet(\n",
    "    A1_mat_layer    = ['SESAME_iron', 'SESAME_basalt'],\n",
    "    A1_T_rho_type   = ['power=0.', 'adiabatic'],\n",
    "    P_s             = 1e5,\n",
    "    T_s             = 300,\n",
    "    M               = M_earth,\n",
    "    A1_R_layer      = [None, R_earth]               # list with boundary and total radius\n",
    "    )\n",
    "\n",
    "l2_test.gen_prof_L2_find_R1_given_R_M()"
   ]
  },
  {
   "cell_type": "code",
   "execution_count": null,
   "metadata": {},
   "outputs": [],
   "source": [
    "N = 1e5 # Number of particles\n",
    "particles = woma.ParticleSet(l2_test, N)"
   ]
  },
  {
   "cell_type": "markdown",
   "metadata": {},
   "source": [
    "All information about the particle placement can be found in the attributes of `particles`. See `main.py` for all the detals."
   ]
  },
  {
   "cell_type": "code",
   "execution_count": null,
   "metadata": {},
   "outputs": [],
   "source": [
    "print(woma.ParticleSet.__doc__)"
   ]
  },
  {
   "cell_type": "markdown",
   "metadata": {},
   "source": [
    "## 3. Spinning planetary profiles"
   ]
  },
  {
   "cell_type": "markdown",
   "metadata": {},
   "source": [
    "A spinning planetary profile can be described by its equatorial and polar density profiles. This is equivalent to say our planet is a set of constant density oblate spheroids. For full details see [Ruiz-Bonilla et al. 2020](fgdfgdfg).\n",
    "\n",
    "The easiest way to construct a spheroidal planet in WoMa is starting from a spherical one. Let us construct an arbitrary one:"
   ]
  },
  {
   "cell_type": "code",
   "execution_count": null,
   "metadata": {},
   "outputs": [],
   "source": [
    "def plot_spin_profile(spin_planet):\n",
    "    \n",
    "    sp = spin_planet\n",
    "    \n",
    "    fig, ax = plt.subplots(1,2, figsize=(12,6))\n",
    "    ax[0].scatter(sp.A1_r/R_earth, sp.A1_rho, label = 'original', s = 0.5)\n",
    "    ax[0].scatter(sp.A1_r_equator/R_earth, sp.A1_rho_equator, label = 'equatorial profile', s = 1)\n",
    "    ax[0].scatter(sp.A1_r_pole/R_earth, sp.A1_rho_pole, label = 'polar profile', s = 1)\n",
    "    ax[0].set_xlabel(r\"$r$ [$R_{earth}$]\")\n",
    "    ax[0].set_ylabel(r\"$\\rho$ [$kg/m^3$]\")\n",
    "    ax[0].legend()\n",
    "    \n",
    "    \n",
    "    r_array_coarse = np.linspace(0, np.max(sp.A1_r_equator), 200)\n",
    "    z_array_coarse = np.linspace(0, np.max(sp.A1_r_pole), 200)\n",
    "    rho_grid = np.zeros((r_array_coarse.shape[0], z_array_coarse.shape[0]))\n",
    "    for i in range(rho_grid.shape[0]):\n",
    "        radius = r_array_coarse[i]\n",
    "        for j in range(rho_grid.shape[1]):\n",
    "            z = z_array_coarse[j]\n",
    "            rho_grid[i,j] = woma.us.rho_rz(radius, z,\n",
    "                                      sp.A1_r_equator, sp.A1_rho_equator,\n",
    "                                      sp.A1_r_pole, sp.A1_rho_pole)\n",
    "    \n",
    "    X, Y = np.meshgrid(r_array_coarse/R_earth, z_array_coarse/R_earth)\n",
    "    Z = rho_grid.T\n",
    "    levels = np.arange(1000, 15000, 1000)\n",
    "    ax[1].set_aspect('equal')\n",
    "    CS = plt.contour(X, Y, Z, levels = levels)\n",
    "    ax[1].clabel(CS, inline=1, fontsize=10)\n",
    "    ax[1].set_xlabel(r\"$r$ [$R_{earth}$]\")\n",
    "    ax[1].set_ylabel(r\"$z$ [$R_{earth}$]\")\n",
    "    ax[1].set_title('Density (Kg/m^3)')\n",
    "        \n",
    "    plt.tight_layout()\n",
    "    plt.show()"
   ]
  },
  {
   "cell_type": "code",
   "execution_count": null,
   "metadata": {},
   "outputs": [],
   "source": [
    "import woma\n",
    "import seagen\n",
    "import matplotlib.pyplot as plt\n",
    "import numpy as np\n",
    "\n",
    "R_earth = 6371000\n",
    "M_earth = 5.972E24\n",
    "\n",
    "l2_test = woma.Planet(\n",
    "    A1_mat_layer    = ['Til_iron', 'Til_granite'],\n",
    "    A1_T_rho_type   = ['power=0.1', 'power=0.1'],\n",
    "    P_s             = 1e5,\n",
    "    T_s             = 3000,\n",
    "    M               = M_earth,\n",
    "    A1_R_layer      = [0.5*R_earth, None],               # list with boundary and total radius\n",
    "    R_max           = 2*R_earth\n",
    "    )\n",
    "\n",
    "l2_test.gen_prof_L2_find_R_given_M_R1()"
   ]
  },
  {
   "cell_type": "markdown",
   "metadata": {},
   "source": [
    "We now, just simply use the `SpinPlanet` class:"
   ]
  },
  {
   "cell_type": "code",
   "execution_count": null,
   "metadata": {},
   "outputs": [],
   "source": [
    "my_spinning_planet = woma.SpinPlanet(\n",
    "    planet = l2_test,\n",
    "    Tw     = 3  # hours\n",
    "    )\n",
    "\n",
    "my_spinning_planet.spin()\n",
    "\n",
    "plot_spin_profile(my_spinning_planet)"
   ]
  },
  {
   "cell_type": "markdown",
   "metadata": {},
   "source": [
    "The code will check for the minimum period available for the planet described automatically."
   ]
  },
  {
   "cell_type": "markdown",
   "metadata": {},
   "source": [
    "Note the units of periods are set in hours, the rest of units are SI.\n",
    "\n",
    "Let's compute the spinning planetary profile of the planet with its minimum period:"
   ]
  },
  {
   "cell_type": "code",
   "execution_count": null,
   "metadata": {},
   "outputs": [],
   "source": [
    "l2_test_spin = woma.SpinPlanet(\n",
    "    planet  = l2_test,\n",
    "    R_e_max = 2.3*R_earth,\n",
    "    R_p_max = 1.3*R_earth,\n",
    "    Tw      = 0.001     # hours\n",
    "    )\n",
    "\n",
    "l2_test_spin.spin()\n",
    "\n",
    "plot_spin_profile(l2_test_spin)"
   ]
  },
  {
   "cell_type": "markdown",
   "metadata": {},
   "source": [
    "Note the `spin` method does not have mass conservation. In order to have it, use `spin_planet_fix_M`."
   ]
  },
  {
   "cell_type": "code",
   "execution_count": null,
   "metadata": {},
   "outputs": [],
   "source": [
    "l2_test_spin = woma.spin_planet_fix_M(planet=l2_test, Tw=10,\n",
    "                                      R_e_max=1.5*R_earth, R_p_max=1.1*R_earth,\n",
    "                                      max_iter_1=5, max_iter_2=5)"
   ]
  },
  {
   "cell_type": "markdown",
   "metadata": {},
   "source": [
    "## 4. Particle placement for spinning planetary profiles"
   ]
  },
  {
   "cell_type": "markdown",
   "metadata": {},
   "source": [
    "We place particles for the example used above (see [Ruiz-Bonilla et al. 2020](fgdfgdfg) for full details):"
   ]
  },
  {
   "cell_type": "code",
   "execution_count": null,
   "metadata": {},
   "outputs": [],
   "source": [
    "N         = 1e5 # Number of particles\n",
    "particles = woma.ParticleSet(l2_test_spin, N)"
   ]
  }
 ],
 "metadata": {
  "kernelspec": {
   "display_name": "Python 3",
   "language": "python",
   "name": "python3"
  },
  "language_info": {
   "codemirror_mode": {
    "name": "ipython",
    "version": 3
   },
   "file_extension": ".py",
   "mimetype": "text/x-python",
   "name": "python",
   "nbconvert_exporter": "python",
   "pygments_lexer": "ipython3",
   "version": "3.6.9"
  }
 },
 "nbformat": 4,
 "nbformat_minor": 2
}
